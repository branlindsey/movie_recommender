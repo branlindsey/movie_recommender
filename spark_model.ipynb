{
 "cells": [
  {
   "cell_type": "code",
   "execution_count": 2,
   "metadata": {},
   "outputs": [],
   "source": [
    "import numpy as np\n",
    "import pandas as pd\n",
    "import pyspark as ps\n",
    "from pyspark.sql import SparkSession\n",
    "\n",
    "import matplotlib.pyplot as plt\n",
    "\n",
    "%matplotlib inline"
   ]
  },
  {
   "cell_type": "code",
   "execution_count": null,
   "metadata": {},
   "outputs": [],
   "source": []
  },
  {
   "cell_type": "code",
   "execution_count": 3,
   "metadata": {},
   "outputs": [],
   "source": [
    "ratings = pd.read_csv('cleaned_data/ratings.csv')"
   ]
  },
  {
   "cell_type": "code",
   "execution_count": 150,
   "metadata": {},
   "outputs": [
    {
     "data": {
      "text/plain": [
       "800000"
      ]
     },
     "execution_count": 150,
     "metadata": {},
     "output_type": "execute_result"
    }
   ],
   "source": [
    "len(ratings)"
   ]
  },
  {
   "cell_type": "code",
   "execution_count": 172,
   "metadata": {},
   "outputs": [
    {
     "data": {
      "text/html": [
       "<div>\n",
       "<style scoped>\n",
       "    .dataframe tbody tr th:only-of-type {\n",
       "        vertical-align: middle;\n",
       "    }\n",
       "\n",
       "    .dataframe tbody tr th {\n",
       "        vertical-align: top;\n",
       "    }\n",
       "\n",
       "    .dataframe thead th {\n",
       "        text-align: right;\n",
       "    }\n",
       "</style>\n",
       "<table border=\"1\" class=\"dataframe\">\n",
       "  <thead>\n",
       "    <tr style=\"text-align: right;\">\n",
       "      <th></th>\n",
       "      <th>user</th>\n",
       "      <th>movie</th>\n",
       "      <th>rating</th>\n",
       "    </tr>\n",
       "  </thead>\n",
       "  <tbody>\n",
       "    <tr>\n",
       "      <th>0</th>\n",
       "      <td>6040</td>\n",
       "      <td>858</td>\n",
       "      <td>4</td>\n",
       "    </tr>\n",
       "    <tr>\n",
       "      <th>1</th>\n",
       "      <td>6040</td>\n",
       "      <td>593</td>\n",
       "      <td>5</td>\n",
       "    </tr>\n",
       "    <tr>\n",
       "      <th>2</th>\n",
       "      <td>6040</td>\n",
       "      <td>2384</td>\n",
       "      <td>4</td>\n",
       "    </tr>\n",
       "    <tr>\n",
       "      <th>3</th>\n",
       "      <td>6040</td>\n",
       "      <td>1961</td>\n",
       "      <td>4</td>\n",
       "    </tr>\n",
       "    <tr>\n",
       "      <th>4</th>\n",
       "      <td>6040</td>\n",
       "      <td>2019</td>\n",
       "      <td>5</td>\n",
       "    </tr>\n",
       "    <tr>\n",
       "      <th>...</th>\n",
       "      <td>...</td>\n",
       "      <td>...</td>\n",
       "      <td>...</td>\n",
       "    </tr>\n",
       "    <tr>\n",
       "      <th>211467</th>\n",
       "      <td>6040</td>\n",
       "      <td>535</td>\n",
       "      <td>4</td>\n",
       "    </tr>\n",
       "    <tr>\n",
       "      <th>211468</th>\n",
       "      <td>6040</td>\n",
       "      <td>3751</td>\n",
       "      <td>4</td>\n",
       "    </tr>\n",
       "    <tr>\n",
       "      <th>211469</th>\n",
       "      <td>6040</td>\n",
       "      <td>495</td>\n",
       "      <td>2</td>\n",
       "    </tr>\n",
       "    <tr>\n",
       "      <th>211470</th>\n",
       "      <td>6040</td>\n",
       "      <td>1077</td>\n",
       "      <td>5</td>\n",
       "    </tr>\n",
       "    <tr>\n",
       "      <th>211474</th>\n",
       "      <td>6040</td>\n",
       "      <td>3168</td>\n",
       "      <td>4</td>\n",
       "    </tr>\n",
       "  </tbody>\n",
       "</table>\n",
       "<p>318 rows × 3 columns</p>\n",
       "</div>"
      ],
      "text/plain": [
       "        user  movie  rating\n",
       "0       6040    858       4\n",
       "1       6040    593       5\n",
       "2       6040   2384       4\n",
       "3       6040   1961       4\n",
       "4       6040   2019       5\n",
       "...      ...    ...     ...\n",
       "211467  6040    535       4\n",
       "211468  6040   3751       4\n",
       "211469  6040    495       2\n",
       "211470  6040   1077       5\n",
       "211474  6040   3168       4\n",
       "\n",
       "[318 rows x 3 columns]"
      ]
     },
     "execution_count": 172,
     "metadata": {},
     "output_type": "execute_result"
    }
   ],
   "source": [
    "ratings.loc[ratings['user']==6040]"
   ]
  },
  {
   "cell_type": "code",
   "execution_count": 4,
   "metadata": {},
   "outputs": [
    {
     "data": {
      "text/html": [
       "<div>\n",
       "<style scoped>\n",
       "    .dataframe tbody tr th:only-of-type {\n",
       "        vertical-align: middle;\n",
       "    }\n",
       "\n",
       "    .dataframe tbody tr th {\n",
       "        vertical-align: top;\n",
       "    }\n",
       "\n",
       "    .dataframe thead th {\n",
       "        text-align: right;\n",
       "    }\n",
       "</style>\n",
       "<table border=\"1\" class=\"dataframe\">\n",
       "  <thead>\n",
       "    <tr style=\"text-align: right;\">\n",
       "      <th></th>\n",
       "      <th>user</th>\n",
       "      <th>movie</th>\n",
       "      <th>rating</th>\n",
       "    </tr>\n",
       "  </thead>\n",
       "  <tbody>\n",
       "    <tr>\n",
       "      <th>0</th>\n",
       "      <td>6040</td>\n",
       "      <td>858</td>\n",
       "      <td>4</td>\n",
       "    </tr>\n",
       "    <tr>\n",
       "      <th>1</th>\n",
       "      <td>6040</td>\n",
       "      <td>593</td>\n",
       "      <td>5</td>\n",
       "    </tr>\n",
       "    <tr>\n",
       "      <th>2</th>\n",
       "      <td>6040</td>\n",
       "      <td>2384</td>\n",
       "      <td>4</td>\n",
       "    </tr>\n",
       "    <tr>\n",
       "      <th>3</th>\n",
       "      <td>6040</td>\n",
       "      <td>1961</td>\n",
       "      <td>4</td>\n",
       "    </tr>\n",
       "    <tr>\n",
       "      <th>4</th>\n",
       "      <td>6040</td>\n",
       "      <td>2019</td>\n",
       "      <td>5</td>\n",
       "    </tr>\n",
       "  </tbody>\n",
       "</table>\n",
       "</div>"
      ],
      "text/plain": [
       "   user  movie  rating\n",
       "0  6040    858       4\n",
       "1  6040    593       5\n",
       "2  6040   2384       4\n",
       "3  6040   1961       4\n",
       "4  6040   2019       5"
      ]
     },
     "execution_count": 4,
     "metadata": {},
     "output_type": "execute_result"
    }
   ],
   "source": [
    "ratings.head()"
   ]
  },
  {
   "cell_type": "code",
   "execution_count": 5,
   "metadata": {},
   "outputs": [],
   "source": [
    "spark = SparkSession.builder.getOrCreate()\n",
    "spark_df = spark.createDataFrame(ratings)"
   ]
  },
  {
   "cell_type": "code",
   "execution_count": 6,
   "metadata": {},
   "outputs": [],
   "source": [
    "train, test = spark_df.randomSplit([0.8, 0.2], seed=1)"
   ]
  },
  {
   "cell_type": "code",
   "execution_count": 152,
   "metadata": {},
   "outputs": [
    {
     "data": {
      "text/plain": [
       "640665"
      ]
     },
     "execution_count": 152,
     "metadata": {},
     "output_type": "execute_result"
    }
   ],
   "source": [
    "train.distinct().count()"
   ]
  },
  {
   "cell_type": "code",
   "execution_count": 122,
   "metadata": {},
   "outputs": [],
   "source": [
    "from pyspark.ml.recommendation import ALS\n",
    "als_model = ALS(\n",
    "    itemCol='movie',\n",
    "    userCol='user',\n",
    "    ratingCol='rating',\n",
    "    nonnegative=True,    \n",
    "    regParam=0.1,\n",
    "    rank=10)"
   ]
  },
  {
   "cell_type": "code",
   "execution_count": 123,
   "metadata": {},
   "outputs": [],
   "source": [
    "recommender = als_model.fit(train)"
   ]
  },
  {
   "cell_type": "code",
   "execution_count": 124,
   "metadata": {},
   "outputs": [],
   "source": [
    "p_ratings = recommender.transform(train)"
   ]
  },
  {
   "cell_type": "code",
   "execution_count": 125,
   "metadata": {},
   "outputs": [],
   "source": [
    "p_ratings_df = p_ratings.toPandas()"
   ]
  },
  {
   "cell_type": "code",
   "execution_count": 126,
   "metadata": {},
   "outputs": [],
   "source": [
    "p_ratings_df['squared_error'] = (p_ratings_df['rating'] - p_ratings_df['prediction'])**2"
   ]
  },
  {
   "cell_type": "code",
   "execution_count": 127,
   "metadata": {},
   "outputs": [
    {
     "data": {
      "text/plain": [
       "0.8197275892046302"
      ]
     },
     "execution_count": 127,
     "metadata": {},
     "output_type": "execute_result"
    }
   ],
   "source": [
    "np.sqrt(p_ratings_df['squared_error'].mean())"
   ]
  },
  {
   "cell_type": "code",
   "execution_count": 128,
   "metadata": {},
   "outputs": [],
   "source": [
    "from pyspark.ml.evaluation import RegressionEvaluator\n",
    "evaluator = RegressionEvaluator(metricName=\"rmse\", labelCol=\"rating\",\n",
    "                                predictionCol=\"prediction\")"
   ]
  },
  {
   "cell_type": "code",
   "execution_count": 129,
   "metadata": {},
   "outputs": [
    {
     "name": "stdout",
     "output_type": "stream",
     "text": [
      "Root-mean-square error = 0.8198278972812725\n"
     ]
    }
   ],
   "source": [
    "rmse = evaluator.evaluate(p_ratings)\n",
    "print(\"Root-mean-square error = \" + str(rmse))"
   ]
  },
  {
   "cell_type": "code",
   "execution_count": 16,
   "metadata": {},
   "outputs": [
    {
     "name": "stdout",
     "output_type": "stream",
     "text": [
      "+----+-----+------+----------+\n",
      "|user|movie|rating|prediction|\n",
      "+----+-----+------+----------+\n",
      "| 673|  148|     5| 3.8626866|\n",
      "|4784|  148|     3|  2.840065|\n",
      "|2383|  148|     2|   2.39018|\n",
      "|1242|  148|     3| 3.1492693|\n",
      "|3539|  148|     3|  2.792273|\n",
      "|1605|  148|     2| 2.0399823|\n",
      "|1150|  148|     2| 2.4502244|\n",
      "|3829|  148|     2| 2.0268416|\n",
      "|2456|  148|     2| 2.4977765|\n",
      "|2507|  148|     4| 3.1705122|\n",
      "+----+-----+------+----------+\n",
      "only showing top 10 rows\n",
      "\n"
     ]
    }
   ],
   "source": [
    "p_ratings.show(10)"
   ]
  },
  {
   "cell_type": "code",
   "execution_count": null,
   "metadata": {},
   "outputs": [],
   "source": []
  },
  {
   "cell_type": "code",
   "execution_count": null,
   "metadata": {},
   "outputs": [],
   "source": []
  },
  {
   "cell_type": "code",
   "execution_count": 11,
   "metadata": {},
   "outputs": [],
   "source": [
    "itemfactors = recommender.itemFactors\n",
    "userfactors = recommender.userFactors"
   ]
  },
  {
   "cell_type": "code",
   "execution_count": 18,
   "metadata": {},
   "outputs": [],
   "source": [
    "user = userfactors.filter('id = 673').collect()\n",
    "movie = itemfactors.filter('id = 148').collect()"
   ]
  },
  {
   "cell_type": "code",
   "execution_count": 19,
   "metadata": {},
   "outputs": [
    {
     "data": {
      "text/plain": [
       "3.8626866392605264"
      ]
     },
     "execution_count": 19,
     "metadata": {},
     "output_type": "execute_result"
    }
   ],
   "source": [
    "user_vec = np.array(user[0][1])\n",
    "item_vec = np.array(movie[0][1])\n",
    "user_vec.dot(item_vec)"
   ]
  },
  {
   "cell_type": "code",
   "execution_count": 130,
   "metadata": {},
   "outputs": [],
   "source": [
    "prediction = recommender.transform(test)"
   ]
  },
  {
   "cell_type": "code",
   "execution_count": 21,
   "metadata": {
    "collapsed": true,
    "jupyter": {
     "outputs_hidden": true
    }
   },
   "outputs": [
    {
     "name": "stdout",
     "output_type": "stream",
     "text": [
      "+----+-----+------+----------+\n",
      "|user|movie|rating|prediction|\n",
      "+----+-----+------+----------+\n",
      "|4227|  148|     2| 1.5799897|\n",
      "|3184|  148|     4| 2.8290672|\n",
      "|1069|  148|     2| 2.6959114|\n",
      "|4858|  463|     3| 2.5466502|\n",
      "|4040|  463|     1|  1.796684|\n",
      "|3753|  463|     2|  2.626993|\n",
      "|3808|  463|     3|  2.378176|\n",
      "|3829|  463|     2|   1.90345|\n",
      "|5614|  471|     5| 3.7531898|\n",
      "|1699|  471|     5| 3.9752107|\n",
      "+----+-----+------+----------+\n",
      "only showing top 10 rows\n",
      "\n"
     ]
    }
   ],
   "source": [
    "prediction.show(10)"
   ]
  },
  {
   "cell_type": "code",
   "execution_count": 23,
   "metadata": {
    "collapsed": true,
    "jupyter": {
     "outputs_hidden": true
    }
   },
   "outputs": [
    {
     "name": "stdout",
     "output_type": "stream",
     "text": [
      "+-------+------------------+------------------+------------------+----------+\n",
      "|summary|              user|             movie|            rating|prediction|\n",
      "+-------+------------------+------------------+------------------+----------+\n",
      "|  count|            159335|            159335|            159335|    159335|\n",
      "|   mean| 3404.643781968808|1850.0459032855306|3.5894436250666835|       NaN|\n",
      "| stddev|1544.5439619295785| 1086.547829296142|1.1216084316255814|       NaN|\n",
      "|    min|               636|                 1|                 1| 0.5218163|\n",
      "|    max|              6040|              3952|                 5|       NaN|\n",
      "+-------+------------------+------------------+------------------+----------+\n",
      "\n"
     ]
    }
   ],
   "source": [
    "prediction.describe().show()"
   ]
  },
  {
   "cell_type": "code",
   "execution_count": 131,
   "metadata": {},
   "outputs": [],
   "source": [
    "predictions_df = prediction.toPandas()"
   ]
  },
  {
   "cell_type": "code",
   "execution_count": 132,
   "metadata": {},
   "outputs": [
    {
     "data": {
      "text/html": [
       "<div>\n",
       "<style scoped>\n",
       "    .dataframe tbody tr th:only-of-type {\n",
       "        vertical-align: middle;\n",
       "    }\n",
       "\n",
       "    .dataframe tbody tr th {\n",
       "        vertical-align: top;\n",
       "    }\n",
       "\n",
       "    .dataframe thead th {\n",
       "        text-align: right;\n",
       "    }\n",
       "</style>\n",
       "<table border=\"1\" class=\"dataframe\">\n",
       "  <thead>\n",
       "    <tr style=\"text-align: right;\">\n",
       "      <th></th>\n",
       "      <th>user</th>\n",
       "      <th>movie</th>\n",
       "      <th>rating</th>\n",
       "      <th>prediction</th>\n",
       "    </tr>\n",
       "  </thead>\n",
       "  <tbody>\n",
       "    <tr>\n",
       "      <th>0</th>\n",
       "      <td>4227</td>\n",
       "      <td>148</td>\n",
       "      <td>2</td>\n",
       "      <td>1.919962</td>\n",
       "    </tr>\n",
       "    <tr>\n",
       "      <th>1</th>\n",
       "      <td>3184</td>\n",
       "      <td>148</td>\n",
       "      <td>4</td>\n",
       "      <td>3.035991</td>\n",
       "    </tr>\n",
       "    <tr>\n",
       "      <th>2</th>\n",
       "      <td>1069</td>\n",
       "      <td>148</td>\n",
       "      <td>2</td>\n",
       "      <td>2.561747</td>\n",
       "    </tr>\n",
       "    <tr>\n",
       "      <th>3</th>\n",
       "      <td>4858</td>\n",
       "      <td>463</td>\n",
       "      <td>3</td>\n",
       "      <td>2.481914</td>\n",
       "    </tr>\n",
       "    <tr>\n",
       "      <th>4</th>\n",
       "      <td>4040</td>\n",
       "      <td>463</td>\n",
       "      <td>1</td>\n",
       "      <td>1.765732</td>\n",
       "    </tr>\n",
       "  </tbody>\n",
       "</table>\n",
       "</div>"
      ],
      "text/plain": [
       "   user  movie  rating  prediction\n",
       "0  4227    148       2    1.919962\n",
       "1  3184    148       4    3.035991\n",
       "2  1069    148       2    2.561747\n",
       "3  4858    463       3    2.481914\n",
       "4  4040    463       1    1.765732"
      ]
     },
     "execution_count": 132,
     "metadata": {},
     "output_type": "execute_result"
    }
   ],
   "source": [
    "predictions_df.head()"
   ]
  },
  {
   "cell_type": "code",
   "execution_count": 133,
   "metadata": {},
   "outputs": [],
   "source": [
    "predictions_df['squared_error'] = (predictions_df['rating'] - predictions_df['prediction'])**2"
   ]
  },
  {
   "cell_type": "code",
   "execution_count": 29,
   "metadata": {},
   "outputs": [
    {
     "data": {
      "text/html": [
       "<div>\n",
       "<style scoped>\n",
       "    .dataframe tbody tr th:only-of-type {\n",
       "        vertical-align: middle;\n",
       "    }\n",
       "\n",
       "    .dataframe tbody tr th {\n",
       "        vertical-align: top;\n",
       "    }\n",
       "\n",
       "    .dataframe thead th {\n",
       "        text-align: right;\n",
       "    }\n",
       "</style>\n",
       "<table border=\"1\" class=\"dataframe\">\n",
       "  <thead>\n",
       "    <tr style=\"text-align: right;\">\n",
       "      <th></th>\n",
       "      <th>user</th>\n",
       "      <th>movie</th>\n",
       "      <th>rating</th>\n",
       "      <th>prediction</th>\n",
       "      <th>squared_error</th>\n",
       "    </tr>\n",
       "  </thead>\n",
       "  <tbody>\n",
       "    <tr>\n",
       "      <th>0</th>\n",
       "      <td>4227</td>\n",
       "      <td>148</td>\n",
       "      <td>2</td>\n",
       "      <td>1.579990</td>\n",
       "      <td>0.176409</td>\n",
       "    </tr>\n",
       "    <tr>\n",
       "      <th>1</th>\n",
       "      <td>3184</td>\n",
       "      <td>148</td>\n",
       "      <td>4</td>\n",
       "      <td>2.829067</td>\n",
       "      <td>1.371083</td>\n",
       "    </tr>\n",
       "    <tr>\n",
       "      <th>2</th>\n",
       "      <td>1069</td>\n",
       "      <td>148</td>\n",
       "      <td>2</td>\n",
       "      <td>2.695911</td>\n",
       "      <td>0.484293</td>\n",
       "    </tr>\n",
       "    <tr>\n",
       "      <th>3</th>\n",
       "      <td>4858</td>\n",
       "      <td>463</td>\n",
       "      <td>3</td>\n",
       "      <td>2.546650</td>\n",
       "      <td>0.205526</td>\n",
       "    </tr>\n",
       "    <tr>\n",
       "      <th>4</th>\n",
       "      <td>4040</td>\n",
       "      <td>463</td>\n",
       "      <td>1</td>\n",
       "      <td>1.796684</td>\n",
       "      <td>0.634705</td>\n",
       "    </tr>\n",
       "  </tbody>\n",
       "</table>\n",
       "</div>"
      ],
      "text/plain": [
       "   user  movie  rating  prediction  squared_error\n",
       "0  4227    148       2    1.579990       0.176409\n",
       "1  3184    148       4    2.829067       1.371083\n",
       "2  1069    148       2    2.695911       0.484293\n",
       "3  4858    463       3    2.546650       0.205526\n",
       "4  4040    463       1    1.796684       0.634705"
      ]
     },
     "execution_count": 29,
     "metadata": {},
     "output_type": "execute_result"
    }
   ],
   "source": [
    "predictions_df.head()"
   ]
  },
  {
   "cell_type": "code",
   "execution_count": 134,
   "metadata": {},
   "outputs": [
    {
     "data": {
      "text/plain": [
       "0.8760740296097116"
      ]
     },
     "execution_count": 134,
     "metadata": {},
     "output_type": "execute_result"
    }
   ],
   "source": [
    "np.sqrt(predictions_df['squared_error'].mean())"
   ]
  },
  {
   "cell_type": "code",
   "execution_count": 136,
   "metadata": {},
   "outputs": [
    {
     "name": "stdout",
     "output_type": "stream",
     "text": [
      "Root-mean-square error = nan\n"
     ]
    }
   ],
   "source": [
    "rmse = evaluator.evaluate(prediction)\n",
    "print(\"Root-mean-square error = \" + str(rmse))"
   ]
  },
  {
   "cell_type": "code",
   "execution_count": 106,
   "metadata": {},
   "outputs": [],
   "source": [
    "fake_test = pd.read_csv('data/fake_testing.csv', names=['user', 'movie', 'rating'])"
   ]
  },
  {
   "cell_type": "code",
   "execution_count": 107,
   "metadata": {},
   "outputs": [],
   "source": [
    "spark_ftest = spark.createDataFrame(fake_test)\n",
    "\n",
    "ft_transform = recommender.transform(spark_ftest)"
   ]
  },
  {
   "cell_type": "code",
   "execution_count": 120,
   "metadata": {
    "collapsed": true,
    "jupyter": {
     "outputs_hidden": true
    }
   },
   "outputs": [
    {
     "name": "stdout",
     "output_type": "stream",
     "text": [
      "+----+-----+------------+----------+\n",
      "|user|movie|actualrating|prediction|\n",
      "+----+-----+------------+----------+\n",
      "|  53|  148|           2|       NaN|\n",
      "|4169|  148|           4| 3.0454652|\n",
      "|5333|  148|           1| 2.2217238|\n",
      "|4387|  148|           1| 2.0919197|\n",
      "| 840|  148|           1| 2.8395712|\n",
      "| 216|  148|           3|       NaN|\n",
      "| 482|  148|           2|       NaN|\n",
      "| 752|  148|           1| 2.9017036|\n",
      "| 424|  148|           4|       NaN|\n",
      "| 970|  463|           1| 2.8145456|\n",
      "|4169|  463|           4| 2.3917847|\n",
      "|  26|  463|           3|       NaN|\n",
      "| 319|  463|           1|       NaN|\n",
      "| 202|  463|           1|       NaN|\n",
      "| 721|  463|           2| 3.2837703|\n",
      "| 331|  463|           2|       NaN|\n",
      "| 524|  463|           2|       NaN|\n",
      "|1962|  463|           3| 2.0038242|\n",
      "| 934|  463|           3| 2.2288504|\n",
      "|1088|  471|           1| 3.3729396|\n",
      "| 392|  471|           1|       NaN|\n",
      "| 516|  471|           3|       NaN|\n",
      "|1265|  471|           4|       NaN|\n",
      "|4186|  471|           4| 2.8751643|\n",
      "| 588|  471|           1|       NaN|\n",
      "|  78|  471|           4|       NaN|\n",
      "| 796|  471|           2| 3.1175654|\n",
      "|1500|  471|           1| 3.9418519|\n",
      "|4958|  471|           4| 3.3755505|\n",
      "|1243|  471|           1| 3.5274782|\n",
      "| 406|  471|           1|       NaN|\n",
      "| 587|  471|           3|       NaN|\n",
      "|  26|  471|           3|       NaN|\n",
      "| 743|  471|           1| 3.4284408|\n",
      "|2168|  471|           3|  3.890078|\n",
      "| 409|  471|           1|       NaN|\n",
      "|5333|  471|           2| 3.3489358|\n",
      "|2127|  471|           1| 3.2870655|\n",
      "| 319|  471|           1|       NaN|\n",
      "| 157|  471|           1|       NaN|\n",
      "| 232|  471|           2|       NaN|\n",
      "| 539|  471|           4|       NaN|\n",
      "|1505|  471|           4|  4.142115|\n",
      "|1425|  471|           3| 4.2012534|\n",
      "| 132|  471|           1|       NaN|\n",
      "| 386|  471|           3|       NaN|\n",
      "| 146|  471|           3|       NaN|\n",
      "|1491|  471|           2|  3.361991|\n",
      "|3648|  471|           1| 2.5681024|\n",
      "| 631|  471|           1|       NaN|\n",
      "+----+-----+------------+----------+\n",
      "only showing top 50 rows\n",
      "\n"
     ]
    }
   ],
   "source": [
    "ft_transform.show(50)"
   ]
  },
  {
   "cell_type": "code",
   "execution_count": 113,
   "metadata": {},
   "outputs": [],
   "source": [
    "ft_transform_df = ft_transform.toPandas()"
   ]
  },
  {
   "cell_type": "code",
   "execution_count": 118,
   "metadata": {},
   "outputs": [
    {
     "data": {
      "text/plain": [
       "200209"
      ]
     },
     "execution_count": 118,
     "metadata": {},
     "output_type": "execute_result"
    }
   ],
   "source": [
    "len(ft_transform_df)"
   ]
  },
  {
   "cell_type": "code",
   "execution_count": 137,
   "metadata": {},
   "outputs": [
    {
     "data": {
      "text/plain": [
       "user                0\n",
       "movie               0\n",
       "actualrating        0\n",
       "prediction      95790\n",
       "dtype: int64"
      ]
     },
     "execution_count": 137,
     "metadata": {},
     "output_type": "execute_result"
    }
   ],
   "source": [
    "(ft_transform_df.isna()).sum()"
   ]
  },
  {
   "cell_type": "code",
   "execution_count": 145,
   "metadata": {},
   "outputs": [],
   "source": [
    "ft_nan_users = ft_transform_df[['user','prediction']]"
   ]
  },
  {
   "cell_type": "code",
   "execution_count": 148,
   "metadata": {},
   "outputs": [],
   "source": [
    "ft_nan_users = ft_nan_users[ft_nan_users['prediction'].isna()]"
   ]
  },
  {
   "cell_type": "code",
   "execution_count": 178,
   "metadata": {},
   "outputs": [],
   "source": [
    "ft_nan_users.to_csv('cleaned_data/nan_users.csv')"
   ]
  },
  {
   "cell_type": "code",
   "execution_count": 119,
   "metadata": {},
   "outputs": [
    {
     "data": {
      "text/html": [
       "<div>\n",
       "<style scoped>\n",
       "    .dataframe tbody tr th:only-of-type {\n",
       "        vertical-align: middle;\n",
       "    }\n",
       "\n",
       "    .dataframe tbody tr th {\n",
       "        vertical-align: top;\n",
       "    }\n",
       "\n",
       "    .dataframe thead th {\n",
       "        text-align: right;\n",
       "    }\n",
       "</style>\n",
       "<table border=\"1\" class=\"dataframe\">\n",
       "  <thead>\n",
       "    <tr style=\"text-align: right;\">\n",
       "      <th></th>\n",
       "      <th>user</th>\n",
       "      <th>movie</th>\n",
       "      <th>actualrating</th>\n",
       "      <th>prediction</th>\n",
       "    </tr>\n",
       "  </thead>\n",
       "  <tbody>\n",
       "    <tr>\n",
       "      <th>0</th>\n",
       "      <td>53</td>\n",
       "      <td>148</td>\n",
       "      <td>2</td>\n",
       "      <td>NaN</td>\n",
       "    </tr>\n",
       "    <tr>\n",
       "      <th>1</th>\n",
       "      <td>4169</td>\n",
       "      <td>148</td>\n",
       "      <td>4</td>\n",
       "      <td>3.045465</td>\n",
       "    </tr>\n",
       "    <tr>\n",
       "      <th>2</th>\n",
       "      <td>5333</td>\n",
       "      <td>148</td>\n",
       "      <td>1</td>\n",
       "      <td>2.221724</td>\n",
       "    </tr>\n",
       "    <tr>\n",
       "      <th>3</th>\n",
       "      <td>4387</td>\n",
       "      <td>148</td>\n",
       "      <td>1</td>\n",
       "      <td>2.091920</td>\n",
       "    </tr>\n",
       "    <tr>\n",
       "      <th>4</th>\n",
       "      <td>840</td>\n",
       "      <td>148</td>\n",
       "      <td>1</td>\n",
       "      <td>2.839571</td>\n",
       "    </tr>\n",
       "    <tr>\n",
       "      <th>5</th>\n",
       "      <td>216</td>\n",
       "      <td>148</td>\n",
       "      <td>3</td>\n",
       "      <td>NaN</td>\n",
       "    </tr>\n",
       "    <tr>\n",
       "      <th>6</th>\n",
       "      <td>482</td>\n",
       "      <td>148</td>\n",
       "      <td>2</td>\n",
       "      <td>NaN</td>\n",
       "    </tr>\n",
       "    <tr>\n",
       "      <th>7</th>\n",
       "      <td>752</td>\n",
       "      <td>148</td>\n",
       "      <td>1</td>\n",
       "      <td>2.901704</td>\n",
       "    </tr>\n",
       "    <tr>\n",
       "      <th>8</th>\n",
       "      <td>424</td>\n",
       "      <td>148</td>\n",
       "      <td>4</td>\n",
       "      <td>NaN</td>\n",
       "    </tr>\n",
       "    <tr>\n",
       "      <th>9</th>\n",
       "      <td>970</td>\n",
       "      <td>463</td>\n",
       "      <td>1</td>\n",
       "      <td>2.814546</td>\n",
       "    </tr>\n",
       "    <tr>\n",
       "      <th>10</th>\n",
       "      <td>4169</td>\n",
       "      <td>463</td>\n",
       "      <td>4</td>\n",
       "      <td>2.391785</td>\n",
       "    </tr>\n",
       "    <tr>\n",
       "      <th>11</th>\n",
       "      <td>26</td>\n",
       "      <td>463</td>\n",
       "      <td>3</td>\n",
       "      <td>NaN</td>\n",
       "    </tr>\n",
       "    <tr>\n",
       "      <th>12</th>\n",
       "      <td>319</td>\n",
       "      <td>463</td>\n",
       "      <td>1</td>\n",
       "      <td>NaN</td>\n",
       "    </tr>\n",
       "    <tr>\n",
       "      <th>13</th>\n",
       "      <td>202</td>\n",
       "      <td>463</td>\n",
       "      <td>1</td>\n",
       "      <td>NaN</td>\n",
       "    </tr>\n",
       "    <tr>\n",
       "      <th>14</th>\n",
       "      <td>721</td>\n",
       "      <td>463</td>\n",
       "      <td>2</td>\n",
       "      <td>3.283770</td>\n",
       "    </tr>\n",
       "    <tr>\n",
       "      <th>15</th>\n",
       "      <td>331</td>\n",
       "      <td>463</td>\n",
       "      <td>2</td>\n",
       "      <td>NaN</td>\n",
       "    </tr>\n",
       "    <tr>\n",
       "      <th>16</th>\n",
       "      <td>524</td>\n",
       "      <td>463</td>\n",
       "      <td>2</td>\n",
       "      <td>NaN</td>\n",
       "    </tr>\n",
       "    <tr>\n",
       "      <th>17</th>\n",
       "      <td>1962</td>\n",
       "      <td>463</td>\n",
       "      <td>3</td>\n",
       "      <td>2.003824</td>\n",
       "    </tr>\n",
       "    <tr>\n",
       "      <th>18</th>\n",
       "      <td>934</td>\n",
       "      <td>463</td>\n",
       "      <td>3</td>\n",
       "      <td>2.228850</td>\n",
       "    </tr>\n",
       "    <tr>\n",
       "      <th>19</th>\n",
       "      <td>1088</td>\n",
       "      <td>471</td>\n",
       "      <td>1</td>\n",
       "      <td>3.372940</td>\n",
       "    </tr>\n",
       "    <tr>\n",
       "      <th>20</th>\n",
       "      <td>392</td>\n",
       "      <td>471</td>\n",
       "      <td>1</td>\n",
       "      <td>NaN</td>\n",
       "    </tr>\n",
       "    <tr>\n",
       "      <th>21</th>\n",
       "      <td>516</td>\n",
       "      <td>471</td>\n",
       "      <td>3</td>\n",
       "      <td>NaN</td>\n",
       "    </tr>\n",
       "    <tr>\n",
       "      <th>22</th>\n",
       "      <td>1265</td>\n",
       "      <td>471</td>\n",
       "      <td>4</td>\n",
       "      <td>NaN</td>\n",
       "    </tr>\n",
       "    <tr>\n",
       "      <th>23</th>\n",
       "      <td>4186</td>\n",
       "      <td>471</td>\n",
       "      <td>4</td>\n",
       "      <td>2.875164</td>\n",
       "    </tr>\n",
       "    <tr>\n",
       "      <th>24</th>\n",
       "      <td>588</td>\n",
       "      <td>471</td>\n",
       "      <td>1</td>\n",
       "      <td>NaN</td>\n",
       "    </tr>\n",
       "    <tr>\n",
       "      <th>25</th>\n",
       "      <td>78</td>\n",
       "      <td>471</td>\n",
       "      <td>4</td>\n",
       "      <td>NaN</td>\n",
       "    </tr>\n",
       "    <tr>\n",
       "      <th>26</th>\n",
       "      <td>796</td>\n",
       "      <td>471</td>\n",
       "      <td>2</td>\n",
       "      <td>3.117565</td>\n",
       "    </tr>\n",
       "    <tr>\n",
       "      <th>27</th>\n",
       "      <td>1500</td>\n",
       "      <td>471</td>\n",
       "      <td>1</td>\n",
       "      <td>3.941852</td>\n",
       "    </tr>\n",
       "    <tr>\n",
       "      <th>28</th>\n",
       "      <td>4958</td>\n",
       "      <td>471</td>\n",
       "      <td>4</td>\n",
       "      <td>3.375551</td>\n",
       "    </tr>\n",
       "    <tr>\n",
       "      <th>29</th>\n",
       "      <td>1243</td>\n",
       "      <td>471</td>\n",
       "      <td>1</td>\n",
       "      <td>3.527478</td>\n",
       "    </tr>\n",
       "    <tr>\n",
       "      <th>30</th>\n",
       "      <td>406</td>\n",
       "      <td>471</td>\n",
       "      <td>1</td>\n",
       "      <td>NaN</td>\n",
       "    </tr>\n",
       "    <tr>\n",
       "      <th>31</th>\n",
       "      <td>587</td>\n",
       "      <td>471</td>\n",
       "      <td>3</td>\n",
       "      <td>NaN</td>\n",
       "    </tr>\n",
       "    <tr>\n",
       "      <th>32</th>\n",
       "      <td>26</td>\n",
       "      <td>471</td>\n",
       "      <td>3</td>\n",
       "      <td>NaN</td>\n",
       "    </tr>\n",
       "    <tr>\n",
       "      <th>33</th>\n",
       "      <td>743</td>\n",
       "      <td>471</td>\n",
       "      <td>1</td>\n",
       "      <td>3.428441</td>\n",
       "    </tr>\n",
       "    <tr>\n",
       "      <th>34</th>\n",
       "      <td>2168</td>\n",
       "      <td>471</td>\n",
       "      <td>3</td>\n",
       "      <td>3.890078</td>\n",
       "    </tr>\n",
       "    <tr>\n",
       "      <th>35</th>\n",
       "      <td>409</td>\n",
       "      <td>471</td>\n",
       "      <td>1</td>\n",
       "      <td>NaN</td>\n",
       "    </tr>\n",
       "    <tr>\n",
       "      <th>36</th>\n",
       "      <td>5333</td>\n",
       "      <td>471</td>\n",
       "      <td>2</td>\n",
       "      <td>3.348936</td>\n",
       "    </tr>\n",
       "    <tr>\n",
       "      <th>37</th>\n",
       "      <td>2127</td>\n",
       "      <td>471</td>\n",
       "      <td>1</td>\n",
       "      <td>3.287066</td>\n",
       "    </tr>\n",
       "    <tr>\n",
       "      <th>38</th>\n",
       "      <td>319</td>\n",
       "      <td>471</td>\n",
       "      <td>1</td>\n",
       "      <td>NaN</td>\n",
       "    </tr>\n",
       "    <tr>\n",
       "      <th>39</th>\n",
       "      <td>157</td>\n",
       "      <td>471</td>\n",
       "      <td>1</td>\n",
       "      <td>NaN</td>\n",
       "    </tr>\n",
       "    <tr>\n",
       "      <th>40</th>\n",
       "      <td>232</td>\n",
       "      <td>471</td>\n",
       "      <td>2</td>\n",
       "      <td>NaN</td>\n",
       "    </tr>\n",
       "    <tr>\n",
       "      <th>41</th>\n",
       "      <td>539</td>\n",
       "      <td>471</td>\n",
       "      <td>4</td>\n",
       "      <td>NaN</td>\n",
       "    </tr>\n",
       "    <tr>\n",
       "      <th>42</th>\n",
       "      <td>1505</td>\n",
       "      <td>471</td>\n",
       "      <td>4</td>\n",
       "      <td>4.142115</td>\n",
       "    </tr>\n",
       "    <tr>\n",
       "      <th>43</th>\n",
       "      <td>1425</td>\n",
       "      <td>471</td>\n",
       "      <td>3</td>\n",
       "      <td>4.201253</td>\n",
       "    </tr>\n",
       "    <tr>\n",
       "      <th>44</th>\n",
       "      <td>132</td>\n",
       "      <td>471</td>\n",
       "      <td>1</td>\n",
       "      <td>NaN</td>\n",
       "    </tr>\n",
       "    <tr>\n",
       "      <th>45</th>\n",
       "      <td>386</td>\n",
       "      <td>471</td>\n",
       "      <td>3</td>\n",
       "      <td>NaN</td>\n",
       "    </tr>\n",
       "    <tr>\n",
       "      <th>46</th>\n",
       "      <td>146</td>\n",
       "      <td>471</td>\n",
       "      <td>3</td>\n",
       "      <td>NaN</td>\n",
       "    </tr>\n",
       "    <tr>\n",
       "      <th>47</th>\n",
       "      <td>1491</td>\n",
       "      <td>471</td>\n",
       "      <td>2</td>\n",
       "      <td>3.361991</td>\n",
       "    </tr>\n",
       "    <tr>\n",
       "      <th>48</th>\n",
       "      <td>3648</td>\n",
       "      <td>471</td>\n",
       "      <td>1</td>\n",
       "      <td>2.568102</td>\n",
       "    </tr>\n",
       "    <tr>\n",
       "      <th>49</th>\n",
       "      <td>631</td>\n",
       "      <td>471</td>\n",
       "      <td>1</td>\n",
       "      <td>NaN</td>\n",
       "    </tr>\n",
       "  </tbody>\n",
       "</table>\n",
       "</div>"
      ],
      "text/plain": [
       "    user  movie  actualrating  prediction\n",
       "0     53    148             2         NaN\n",
       "1   4169    148             4    3.045465\n",
       "2   5333    148             1    2.221724\n",
       "3   4387    148             1    2.091920\n",
       "4    840    148             1    2.839571\n",
       "5    216    148             3         NaN\n",
       "6    482    148             2         NaN\n",
       "7    752    148             1    2.901704\n",
       "8    424    148             4         NaN\n",
       "9    970    463             1    2.814546\n",
       "10  4169    463             4    2.391785\n",
       "11    26    463             3         NaN\n",
       "12   319    463             1         NaN\n",
       "13   202    463             1         NaN\n",
       "14   721    463             2    3.283770\n",
       "15   331    463             2         NaN\n",
       "16   524    463             2         NaN\n",
       "17  1962    463             3    2.003824\n",
       "18   934    463             3    2.228850\n",
       "19  1088    471             1    3.372940\n",
       "20   392    471             1         NaN\n",
       "21   516    471             3         NaN\n",
       "22  1265    471             4         NaN\n",
       "23  4186    471             4    2.875164\n",
       "24   588    471             1         NaN\n",
       "25    78    471             4         NaN\n",
       "26   796    471             2    3.117565\n",
       "27  1500    471             1    3.941852\n",
       "28  4958    471             4    3.375551\n",
       "29  1243    471             1    3.527478\n",
       "30   406    471             1         NaN\n",
       "31   587    471             3         NaN\n",
       "32    26    471             3         NaN\n",
       "33   743    471             1    3.428441\n",
       "34  2168    471             3    3.890078\n",
       "35   409    471             1         NaN\n",
       "36  5333    471             2    3.348936\n",
       "37  2127    471             1    3.287066\n",
       "38   319    471             1         NaN\n",
       "39   157    471             1         NaN\n",
       "40   232    471             2         NaN\n",
       "41   539    471             4         NaN\n",
       "42  1505    471             4    4.142115\n",
       "43  1425    471             3    4.201253\n",
       "44   132    471             1         NaN\n",
       "45   386    471             3         NaN\n",
       "46   146    471             3         NaN\n",
       "47  1491    471             2    3.361991\n",
       "48  3648    471             1    2.568102\n",
       "49   631    471             1         NaN"
      ]
     },
     "execution_count": 119,
     "metadata": {},
     "output_type": "execute_result"
    }
   ],
   "source": [
    "ft_transform_df.head(50)"
   ]
  },
  {
   "cell_type": "code",
   "execution_count": 160,
   "metadata": {},
   "outputs": [],
   "source": [
    "fake_test2 = pd.read_csv('data/fake_testing.csv')"
   ]
  },
  {
   "cell_type": "code",
   "execution_count": 162,
   "metadata": {},
   "outputs": [],
   "source": [
    "fake_test2['rating'] = fake_test2['actualrating']"
   ]
  },
  {
   "cell_type": "code",
   "execution_count": 163,
   "metadata": {},
   "outputs": [],
   "source": [
    "fake_test2.drop(labels='actualrating', axis=1, inplace=True)\n"
   ]
  },
  {
   "cell_type": "code",
   "execution_count": 164,
   "metadata": {},
   "outputs": [],
   "source": [
    "spark_ftest2 = spark.createDataFrame(fake_test2)\n",
    "\n",
    "ft_transform2 = recommender.transform(spark_ftest2)"
   ]
  },
  {
   "cell_type": "code",
   "execution_count": null,
   "metadata": {},
   "outputs": [],
   "source": []
  },
  {
   "cell_type": "code",
   "execution_count": 165,
   "metadata": {},
   "outputs": [
    {
     "name": "stdout",
     "output_type": "stream",
     "text": [
      "+----+-----+------+----------+\n",
      "|user|movie|rating|prediction|\n",
      "+----+-----+------+----------+\n",
      "|  53|  148|     2|       NaN|\n",
      "|4169|  148|     4| 3.0454652|\n",
      "|5333|  148|     1| 2.2217238|\n",
      "|4387|  148|     1| 2.0919197|\n",
      "| 840|  148|     1| 2.8395712|\n",
      "| 216|  148|     3|       NaN|\n",
      "| 482|  148|     2|       NaN|\n",
      "| 752|  148|     1| 2.9017036|\n",
      "| 424|  148|     4|       NaN|\n",
      "| 970|  463|     1| 2.8145456|\n",
      "+----+-----+------+----------+\n",
      "only showing top 10 rows\n",
      "\n"
     ]
    }
   ],
   "source": [
    "ft_transform2.show(10)"
   ]
  },
  {
   "cell_type": "code",
   "execution_count": null,
   "metadata": {},
   "outputs": [],
   "source": []
  },
  {
   "cell_type": "code",
   "execution_count": null,
   "metadata": {},
   "outputs": [],
   "source": []
  },
  {
   "cell_type": "code",
   "execution_count": null,
   "metadata": {},
   "outputs": [],
   "source": []
  },
  {
   "cell_type": "code",
   "execution_count": null,
   "metadata": {},
   "outputs": [],
   "source": []
  },
  {
   "cell_type": "code",
   "execution_count": null,
   "metadata": {},
   "outputs": [],
   "source": []
  },
  {
   "cell_type": "code",
   "execution_count": null,
   "metadata": {},
   "outputs": [],
   "source": []
  },
  {
   "cell_type": "code",
   "execution_count": 114,
   "metadata": {},
   "outputs": [],
   "source": [
    "# rmse = evaluator.evaluate(ft_transform)\n",
    "# print(\"Root-mean-square error = \" + str(rmse))"
   ]
  },
  {
   "cell_type": "markdown",
   "metadata": {},
   "source": [
    "## Plotting"
   ]
  },
  {
   "cell_type": "code",
   "execution_count": null,
   "metadata": {},
   "outputs": [],
   "source": []
  },
  {
   "cell_type": "code",
   "execution_count": 138,
   "metadata": {},
   "outputs": [
    {
     "name": "stderr",
     "output_type": "stream",
     "text": [
      "/opt/conda/lib/python3.7/site-packages/numpy/linalg/linalg.py:2116: RuntimeWarning: invalid value encountered in det\n",
      "  r = _umath_linalg.det(a, signature=signature)\n"
     ]
    },
    {
     "data": {
      "image/png": "[encoded data removed]",
      "text/plain": [
       "<Figure size 720x576 with 1 Axes>"
      ]
     },
     "metadata": {
      "needs_background": "light"
     },
     "output_type": "display_data"
    }
   ],
   "source": [
    "data = [predictions_df['prediction'][predictions_df['rating'] == rating].values for rating in range(1, 6)]\n",
    "\n",
    "fig, ax = plt.subplots(figsize=(10,8))\n",
    "\n",
    "ax.violinplot(data, range(1,6), showmeans=False)\n",
    "ax.set_xlabel('True Ratings')\n",
    "ax.set_ylabel('Predicted Ratings')\n",
    "ax.set_title('True vs. ALS Recommender Predicted Ratings')\n",
    "plt.show()"
   ]
  },
  {
   "cell_type": "code",
   "execution_count": null,
   "metadata": {},
   "outputs": [],
   "source": []
  },
  {
   "cell_type": "code",
   "execution_count": 46,
   "metadata": {},
   "outputs": [
    {
     "data": {
      "text/plain": [
       "5"
      ]
     },
     "execution_count": 46,
     "metadata": {},
     "output_type": "execute_result"
    }
   ],
   "source": [
    "len(data)"
   ]
  },
  {
   "cell_type": "code",
   "execution_count": 53,
   "metadata": {},
   "outputs": [
    {
     "data": {
      "text/plain": [
       "(array([1.08192e+05, 2.67550e+04, 1.19400e+04, 5.65000e+03, 2.89300e+03,\n",
       "        1.54300e+03, 9.27000e+02, 5.27000e+02, 3.52000e+02, 1.80000e+02,\n",
       "        1.33000e+02, 8.40000e+01, 5.20000e+01, 2.50000e+01, 1.40000e+01,\n",
       "        1.20000e+01, 7.00000e+00, 2.00000e+00, 2.00000e+00, 2.00000e+00]),\n",
       " array([9.0949470e-13, 7.7161729e-01, 1.5432346e+00, 2.3148518e+00,\n",
       "        3.0864692e+00, 3.8580863e+00, 4.6297035e+00, 5.4013209e+00,\n",
       "        6.1729383e+00, 6.9445553e+00, 7.7161727e+00, 8.4877901e+00,\n",
       "        9.2594070e+00, 1.0031025e+01, 1.0802642e+01, 1.1574259e+01,\n",
       "        1.2345877e+01, 1.3117494e+01, 1.3889111e+01, 1.4660728e+01,\n",
       "        1.5432345e+01], dtype=float32),\n",
       " <a list of 20 Patch objects>)"
      ]
     },
     "execution_count": 53,
     "metadata": {},
     "output_type": "execute_result"
    },
    {
     "data": {
      "image/png": "[encoded data removed]",
      "text/plain": [
       "<Figure size 432x288 with 1 Axes>"
      ]
     },
     "metadata": {
      "needs_background": "light"
     },
     "output_type": "display_data"
    }
   ],
   "source": [
    "plt.hist(predictions_df['squared_error'], bins=20)"
   ]
  },
  {
   "cell_type": "code",
   "execution_count": 52,
   "metadata": {},
   "outputs": [
    {
     "data": {
      "text/plain": [
       "<matplotlib.collections.PathCollection at 0x7fb3910f8990>"
      ]
     },
     "execution_count": 52,
     "metadata": {},
     "output_type": "execute_result"
    },
    {
     "data": {
      "image/png": "[encoded data removed]",
      "text/plain": [
       "<Figure size 432x288 with 1 Axes>"
      ]
     },
     "metadata": {
      "needs_background": "light"
     },
     "output_type": "display_data"
    }
   ],
   "source": [
    "plt.scatter(predictions_df['prediction'],predictions_df['rating'], alpha=.5)"
   ]
  },
  {
   "cell_type": "markdown",
   "metadata": {},
   "source": [
    "## Understanding Latent Features "
   ]
  },
  {
   "cell_type": "code",
   "execution_count": 15,
   "metadata": {},
   "outputs": [],
   "source": [
    "itemfactors_df = itemfactors.toPandas()"
   ]
  },
  {
   "cell_type": "code",
   "execution_count": 22,
   "metadata": {},
   "outputs": [
    {
     "data": {
      "text/plain": [
       "(3625,)"
      ]
     },
     "execution_count": 22,
     "metadata": {},
     "output_type": "execute_result"
    }
   ],
   "source": [
    "(itemfactors_df['features'].values).shape"
   ]
  },
  {
   "cell_type": "code",
   "execution_count": 78,
   "metadata": {},
   "outputs": [],
   "source": [
    "sorted_items = itemfactors_df.sort_values(by='id')"
   ]
  },
  {
   "cell_type": "code",
   "execution_count": 79,
   "metadata": {},
   "outputs": [],
   "source": [
    "sorted_items.set_index(keys='id', inplace=True)"
   ]
  },
  {
   "cell_type": "code",
   "execution_count": 95,
   "metadata": {},
   "outputs": [
    {
     "data": {
      "text/plain": [
       "[0.7208385467529297,\n",
       " 0.08985200524330139,\n",
       " 0.04785703867673874,\n",
       " 0.03187407925724983,\n",
       " 0.7748639583587646,\n",
       " 0.4837433695793152,\n",
       " 0.7918107509613037,\n",
       " 0.9629693627357483,\n",
       " 0.5698899626731873,\n",
       " 0.17187771201133728]"
      ]
     },
     "execution_count": 95,
     "metadata": {},
     "output_type": "execute_result"
    }
   ],
   "source": [
    "sorted_items.values[0][0]"
   ]
  },
  {
   "cell_type": "code",
   "execution_count": 93,
   "metadata": {},
   "outputs": [
    {
     "ename": "TypeError",
     "evalue": "data type not understood",
     "output_type": "error",
     "traceback": [
      "\u001b[0;31m---------------------------------------------------------------------------\u001b[0m",
      "\u001b[0;31mTypeError\u001b[0m                                 Traceback (most recent call last)",
      "\u001b[0;32m<ipython-input-93-316da007018e>\u001b[0m in \u001b[0;36m<module>\u001b[0;34m\u001b[0m\n\u001b[0;32m----> 1\u001b[0;31m \u001b[0mmatrix\u001b[0m \u001b[0;34m=\u001b[0m \u001b[0mnp\u001b[0m\u001b[0;34m.\u001b[0m\u001b[0mzeros\u001b[0m\u001b[0;34m(\u001b[0m\u001b[0;36m3625\u001b[0m\u001b[0;34m,\u001b[0m\u001b[0;36m10\u001b[0m\u001b[0;34m)\u001b[0m\u001b[0;34m\u001b[0m\u001b[0;34m\u001b[0m\u001b[0m\n\u001b[0m",
      "\u001b[0;31mTypeError\u001b[0m: data type not understood"
     ]
    }
   ],
   "source": [
    "matrix = np.zeros([3625,10])\n",
    "\n",
    "for x in sorted_items.values:\n",
    "    for i, y in emumerate(x):\n",
    "        matrix[i,:]"
   ]
  },
  {
   "cell_type": "code",
   "execution_count": 173,
   "metadata": {},
   "outputs": [
    {
     "data": {
      "text/plain": [
       "array([list([0.7208385467529297, 0.08985200524330139, 0.04785703867673874, 0.03187407925724983, 0.7748639583587646, 0.4837433695793152, 0.7918107509613037, 0.9629693627357483, 0.5698899626731873, 0.17187771201133728]),\n",
       "       list([0.55461585521698, 0.13874153792858124, 0.23370984196662903, 0.21228328347206116, 0.28509384393692017, 0.2697572112083435, 0.24621392786502838, 0.9610529541969299, 0.29356998205184937, 0.5274598002433777]),\n",
       "       list([0.3442586660385132, 0.29780685901641846, 0.41779056191444397, 0.0, 0.2780248522758484, 0.20978949964046478, 0.44229045510292053, 0.8094544410705566, 0.14861492812633514, 0.8452003598213196]),\n",
       "       ...,\n",
       "       list([0.36412936449050903, 0.0, 0.0, 0.27478206157684326, 0.0, 0.35249966382980347, 0.6803697347640991, 1.5678869485855103, 0.32851630449295044, 0.0]),\n",
       "       list([0.0, 0.5115406513214111, 0.0, 0.08775965869426727, 0.5238903760910034, 0.9095404744148254, 0.5656226873397827, 1.025285005569458, 0.5756511688232422, 0.29113858938217163]),\n",
       "       list([0.29011714458465576, 0.2073139250278473, 0.0, 0.4034822881221771, 0.30810055136680603, 0.2536415159702301, 0.6955853700637817, 1.1095030307769775, 0.7057599425315857, 0.23235224187374115])],\n",
       "      dtype=object)"
      ]
     },
     "execution_count": 173,
     "metadata": {},
     "output_type": "execute_result"
    }
   ],
   "source": [
    "sorted_items['features'].values"
   ]
  },
  {
   "cell_type": "code",
   "execution_count": 177,
   "metadata": {},
   "outputs": [
    {
     "data": {
      "text/html": [
       "<div>\n",
       "<style scoped>\n",
       "    .dataframe tbody tr th:only-of-type {\n",
       "        vertical-align: middle;\n",
       "    }\n",
       "\n",
       "    .dataframe tbody tr th {\n",
       "        vertical-align: top;\n",
       "    }\n",
       "\n",
       "    .dataframe thead th {\n",
       "        text-align: right;\n",
       "    }\n",
       "</style>\n",
       "<table border=\"1\" class=\"dataframe\">\n",
       "  <thead>\n",
       "    <tr style=\"text-align: right;\">\n",
       "      <th></th>\n",
       "      <th>0</th>\n",
       "    </tr>\n",
       "  </thead>\n",
       "  <tbody>\n",
       "    <tr>\n",
       "      <th>0</th>\n",
       "      <td>[0.7208385467529297, 0.08985200524330139, 0.04...</td>\n",
       "    </tr>\n",
       "    <tr>\n",
       "      <th>1</th>\n",
       "      <td>[0.55461585521698, 0.13874153792858124, 0.2337...</td>\n",
       "    </tr>\n",
       "    <tr>\n",
       "      <th>2</th>\n",
       "      <td>[0.3442586660385132, 0.29780685901641846, 0.41...</td>\n",
       "    </tr>\n",
       "    <tr>\n",
       "      <th>3</th>\n",
       "      <td>[0.2476443499326706, 0.09107796847820282, 0.29...</td>\n",
       "    </tr>\n",
       "    <tr>\n",
       "      <th>4</th>\n",
       "      <td>[0.34001076221466064, 0.0063025932759046555, 0...</td>\n",
       "    </tr>\n",
       "    <tr>\n",
       "      <th>...</th>\n",
       "      <td>...</td>\n",
       "    </tr>\n",
       "    <tr>\n",
       "      <th>3620</th>\n",
       "      <td>[0.3921753466129303, 0.015468445606529713, 0.7...</td>\n",
       "    </tr>\n",
       "    <tr>\n",
       "      <th>3621</th>\n",
       "      <td>[0.2906750440597534, 0.0, 0.6350924968719482, ...</td>\n",
       "    </tr>\n",
       "    <tr>\n",
       "      <th>3622</th>\n",
       "      <td>[0.36412936449050903, 0.0, 0.0, 0.274782061576...</td>\n",
       "    </tr>\n",
       "    <tr>\n",
       "      <th>3623</th>\n",
       "      <td>[0.0, 0.5115406513214111, 0.0, 0.0877596586942...</td>\n",
       "    </tr>\n",
       "    <tr>\n",
       "      <th>3624</th>\n",
       "      <td>[0.29011714458465576, 0.2073139250278473, 0.0,...</td>\n",
       "    </tr>\n",
       "  </tbody>\n",
       "</table>\n",
       "<p>3625 rows × 1 columns</p>\n",
       "</div>"
      ],
      "text/plain": [
       "                                                      0\n",
       "0     [0.7208385467529297, 0.08985200524330139, 0.04...\n",
       "1     [0.55461585521698, 0.13874153792858124, 0.2337...\n",
       "2     [0.3442586660385132, 0.29780685901641846, 0.41...\n",
       "3     [0.2476443499326706, 0.09107796847820282, 0.29...\n",
       "4     [0.34001076221466064, 0.0063025932759046555, 0...\n",
       "...                                                 ...\n",
       "3620  [0.3921753466129303, 0.015468445606529713, 0.7...\n",
       "3621  [0.2906750440597534, 0.0, 0.6350924968719482, ...\n",
       "3622  [0.36412936449050903, 0.0, 0.0, 0.274782061576...\n",
       "3623  [0.0, 0.5115406513214111, 0.0, 0.0877596586942...\n",
       "3624  [0.29011714458465576, 0.2073139250278473, 0.0,...\n",
       "\n",
       "[3625 rows x 1 columns]"
      ]
     },
     "execution_count": 177,
     "metadata": {},
     "output_type": "execute_result"
    }
   ],
   "source": [
    "pd.DataFrame(sorted_items['features'].values)"
   ]
  },
  {
   "cell_type": "code",
   "execution_count": 89,
   "metadata": {},
   "outputs": [
    {
     "data": {
      "text/plain": [
       "array([list([0.7208385467529297, 0.08985200524330139, 0.04785703867673874, 0.03187407925724983, 0.7748639583587646, 0.4837433695793152, 0.7918107509613037, 0.9629693627357483, 0.5698899626731873, 0.17187771201133728])],\n",
       "      dtype=object)"
      ]
     },
     "execution_count": 89,
     "metadata": {},
     "output_type": "execute_result"
    }
   ],
   "source": [
    "sorted_items."
   ]
  },
  {
   "cell_type": "code",
   "execution_count": 58,
   "metadata": {},
   "outputs": [
    {
     "data": {
      "text/plain": [
       "(10,)"
      ]
     },
     "execution_count": 58,
     "metadata": {},
     "output_type": "execute_result"
    }
   ],
   "source": [
    "np.array(sorted_items['features']"
   ]
  },
  {
   "cell_type": "code",
   "execution_count": null,
   "metadata": {},
   "outputs": [],
   "source": []
  },
  {
   "cell_type": "code",
   "execution_count": 23,
   "metadata": {},
   "outputs": [],
   "source": [
    "userfactors_df = userfactors.toPandas()"
   ]
  },
  {
   "cell_type": "code",
   "execution_count": 25,
   "metadata": {},
   "outputs": [
    {
     "data": {
      "text/plain": [
       "(5399,)"
      ]
     },
     "execution_count": 25,
     "metadata": {},
     "output_type": "execute_result"
    }
   ],
   "source": [
    "(userfactors_df['features'].values).\n"
   ]
  },
  {
   "cell_type": "code",
   "execution_count": 30,
   "metadata": {},
   "outputs": [
    {
     "data": {
      "text/plain": [
       "[0.6564563512802124,\n",
       " 0.682487964630127,\n",
       " 0.7633579969406128,\n",
       " 0.6249393820762634,\n",
       " 0.48795026540756226,\n",
       " 0.8060238361358643,\n",
       " 0.9950987100601196,\n",
       " 1.3105900287628174,\n",
       " 1.3464887142181396,\n",
       " 0.7762758731842041]"
      ]
     },
     "execution_count": 30,
     "metadata": {},
     "output_type": "execute_result"
    }
   ],
   "source": [
    "userfactors_df['features'].values[0]"
   ]
  },
  {
   "cell_type": "code",
   "execution_count": 31,
   "metadata": {},
   "outputs": [
    {
     "data": {
      "text/html": [
       "<div>\n",
       "<style scoped>\n",
       "    .dataframe tbody tr th:only-of-type {\n",
       "        vertical-align: middle;\n",
       "    }\n",
       "\n",
       "    .dataframe tbody tr th {\n",
       "        vertical-align: top;\n",
       "    }\n",
       "\n",
       "    .dataframe thead th {\n",
       "        text-align: right;\n",
       "    }\n",
       "</style>\n",
       "<table border=\"1\" class=\"dataframe\">\n",
       "  <thead>\n",
       "    <tr style=\"text-align: right;\">\n",
       "      <th></th>\n",
       "      <th>id</th>\n",
       "      <th>features</th>\n",
       "    </tr>\n",
       "  </thead>\n",
       "  <tbody>\n",
       "    <tr>\n",
       "      <th>0</th>\n",
       "      <td>640</td>\n",
       "      <td>[0.6564563512802124, 0.682487964630127, 0.7633...</td>\n",
       "    </tr>\n",
       "    <tr>\n",
       "      <th>1</th>\n",
       "      <td>650</td>\n",
       "      <td>[0.7669003009796143, 0.18694300949573517, 0.41...</td>\n",
       "    </tr>\n",
       "    <tr>\n",
       "      <th>2</th>\n",
       "      <td>660</td>\n",
       "      <td>[0.5475112199783325, 0.7113644480705261, 0.285...</td>\n",
       "    </tr>\n",
       "    <tr>\n",
       "      <th>3</th>\n",
       "      <td>670</td>\n",
       "      <td>[0.6252161860466003, 0.6471410393714905, 0.211...</td>\n",
       "    </tr>\n",
       "    <tr>\n",
       "      <th>4</th>\n",
       "      <td>680</td>\n",
       "      <td>[0.7640587687492371, 0.45688655972480774, 0.21...</td>\n",
       "    </tr>\n",
       "  </tbody>\n",
       "</table>\n",
       "</div>"
      ],
      "text/plain": [
       "    id                                           features\n",
       "0  640  [0.6564563512802124, 0.682487964630127, 0.7633...\n",
       "1  650  [0.7669003009796143, 0.18694300949573517, 0.41...\n",
       "2  660  [0.5475112199783325, 0.7113644480705261, 0.285...\n",
       "3  670  [0.6252161860466003, 0.6471410393714905, 0.211...\n",
       "4  680  [0.7640587687492371, 0.45688655972480774, 0.21..."
      ]
     },
     "execution_count": 31,
     "metadata": {},
     "output_type": "execute_result"
    }
   ],
   "source": [
    "userfactors_df"
   ]
  },
  {
   "cell_type": "markdown",
   "metadata": {},
   "source": [
    "## User Subset"
   ]
  },
  {
   "cell_type": "code",
   "execution_count": 52,
   "metadata": {},
   "outputs": [
    {
     "name": "stdout",
     "output_type": "stream",
     "text": [
      "+-----+--------------------+\n",
      "|movie|     recommendations|\n",
      "+-----+--------------------+\n",
      "|  463|[[3113, 4.609388]...|\n",
      "| 1591|[[3902, 4.194338]...|\n",
      "| 3918|[[2867, 4.469325]...|\n",
      "| 3175|[[3902, 4.89802],...|\n",
      "|  496|[[932, 4.7633276]...|\n",
      "| 1238|[[1371, 4.8083806...|\n",
      "| 3794|[[3545, 4.860028]...|\n",
      "| 1342|[[2155, 4.607645]...|\n",
      "|  833|[[3902, 4.076675]...|\n",
      "| 2366|[[2755, 4.703263]...|\n",
      "| 1829|[[2694, 3.7814484...|\n",
      "|  471|[[692, 4.4713182]...|\n",
      "| 1959|[[4900, 4.6678233...|\n",
      "| 1580|[[3902, 5.0550857...|\n",
      "| 2142|[[3902, 4.1652203...|\n",
      "| 2659|[[3902, 4.536792]...|\n",
      "| 2866|[[2339, 4.4895797...|\n",
      "| 1088|[[4778, 4.936863]...|\n",
      "| 2122|[[2155, 4.9339128...|\n",
      "| 1645|[[3902, 5.0015507...|\n",
      "+-----+--------------------+\n",
      "only showing top 20 rows\n",
      "\n"
     ]
    }
   ],
   "source": [
    "recommender.recommendForItemSubset(train, 10).show()"
   ]
  },
  {
   "cell_type": "code",
   "execution_count": 53,
   "metadata": {},
   "outputs": [
    {
     "name": "stdout",
     "output_type": "stream",
     "text": [
      "+----+--------------------+\n",
      "|user|     recommendations|\n",
      "+----+--------------------+\n",
      "|4519|[[811, 5.669782],...|\n",
      "|4935|[[3906, 5.214474]...|\n",
      "|1591|[[557, 5.9289923]...|\n",
      "|3918|[[3906, 5.026055]...|\n",
      "|3175|[[3906, 5.815897]...|\n",
      "|4900|[[572, 5.9214687]...|\n",
      "|1238|[[557, 5.2848577]...|\n",
      "|3794|[[2309, 4.4060407...|\n",
      "|1342|[[572, 4.5137315]...|\n",
      "| 833|[[572, 5.4476247]...|\n",
      "|2366|[[572, 4.6917243]...|\n",
      "|5803|[[97, 4.5318174],...|\n",
      "|1829|[[3906, 5.228789]...|\n",
      "|4101|[[2086, 4.929735]...|\n",
      "|5518|[[557, 5.3904967]...|\n",
      "|1959|[[572, 5.5938325]...|\n",
      "|1580|[[557, 4.591143],...|\n",
      "|2142|[[572, 4.8600545]...|\n",
      "|5300|[[3906, 5.5257773...|\n",
      "|2659|[[3906, 5.4109], ...|\n",
      "+----+--------------------+\n",
      "only showing top 20 rows\n",
      "\n"
     ]
    }
   ],
   "source": [
    "recommender.recommendForUserSubset(train, 10).show()"
   ]
  },
  {
   "cell_type": "code",
   "execution_count": null,
   "metadata": {},
   "outputs": [],
   "source": []
  }
 ],
 "metadata": {
  "kernelspec": {
   "display_name": "Python 3",
   "language": "python",
   "name": "python3"
  },
  "language_info": {
   "codemirror_mode": {
    "name": "ipython",
    "version": 3
   },
   "file_extension": ".py",
   "mimetype": "text/x-python",
   "name": "python",
   "nbconvert_exporter": "python",
   "pygments_lexer": "ipython3",
   "version": "3.7.6"
  }
 },
 "nbformat": 4,
 "nbformat_minor": 4
}
