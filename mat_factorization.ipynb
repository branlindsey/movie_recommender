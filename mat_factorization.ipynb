{
 "cells": [
  {
   "cell_type": "code",
   "execution_count": 1,
   "metadata": {
    "execution": {
     "iopub.execute_input": "2020-05-22T16:05:02.301039Z",
     "iopub.status.busy": "2020-05-22T16:05:02.300531Z",
     "iopub.status.idle": "2020-05-22T16:05:02.324399Z",
     "shell.execute_reply": "2020-05-22T16:05:02.323556Z",
     "shell.execute_reply.started": "2020-05-22T16:05:02.300851Z"
    }
   },
   "outputs": [],
   "source": [
    "%load_ext autoreload\n",
    "%autoreload 2"
   ]
  },
  {
   "cell_type": "code",
   "execution_count": 2,
   "metadata": {
    "execution": {
     "iopub.execute_input": "2020-05-22T16:05:02.326070Z",
     "iopub.status.busy": "2020-05-22T16:05:02.325798Z",
     "iopub.status.idle": "2020-05-22T16:05:04.226968Z",
     "shell.execute_reply": "2020-05-22T16:05:04.225598Z",
     "shell.execute_reply.started": "2020-05-22T16:05:02.326041Z"
    }
   },
   "outputs": [],
   "source": [
    "# Import Modules\n",
    "import ast\n",
    "from collections import Counter\n",
    "import numpy as np\n",
    "from pandas_profiling import ProfileReport\n",
    "import pandas as pd\n",
    "import matplotlib.pyplot as plt\n",
    "import matplotlib\n",
    "import sklearn.datasets\n",
    "from scipy import spatial\n",
    "from scipy import stats\n",
    "from sklearn.feature_extraction.text import TfidfVectorizer, CountVectorizer\n",
    "from sklearn.metrics.pairwise import cosine_similarity\n",
    "\n",
    "import matplotlib.patches as patches\n",
    "import mplcyberpunk\n",
    "import seaborn as sns\n",
    "from typing import List, Dict, Callable\n",
    "\n",
    "%matplotlib inline\n",
    "# plt.style.use('ggplot')\n",
    "plt.style.use(\"cyberpunk\")"
   ]
  },
  {
   "cell_type": "code",
   "execution_count": 3,
   "metadata": {
    "execution": {
     "iopub.execute_input": "2020-05-22T16:05:04.229723Z",
     "iopub.status.busy": "2020-05-22T16:05:04.229465Z",
     "iopub.status.idle": "2020-05-22T16:05:04.275961Z",
     "shell.execute_reply": "2020-05-22T16:05:04.275095Z",
     "shell.execute_reply.started": "2020-05-22T16:05:04.229690Z"
    }
   },
   "outputs": [],
   "source": [
    "# Import Custom Modules\n",
    "from src.helpers import *"
   ]
  },
  {
   "cell_type": "code",
   "execution_count": 4,
   "metadata": {
    "execution": {
     "iopub.execute_input": "2020-05-22T16:05:04.277485Z",
     "iopub.status.busy": "2020-05-22T16:05:04.277131Z",
     "iopub.status.idle": "2020-05-22T16:05:04.383234Z",
     "shell.execute_reply": "2020-05-22T16:05:04.382508Z",
     "shell.execute_reply.started": "2020-05-22T16:05:04.277449Z"
    }
   },
   "outputs": [],
   "source": [
    "# Import Data\n",
    "movies = pd.read_csv('cleaned_data/movies.csv')\n",
    "users = pd.read_csv('cleaned_data/users.csv')\n",
    "ratings = pd.read_csv('cleaned_data/ratings.csv')"
   ]
  },
  {
   "cell_type": "code",
   "execution_count": 5,
   "metadata": {
    "execution": {
     "iopub.execute_input": "2020-05-22T16:05:04.384428Z",
     "iopub.status.busy": "2020-05-22T16:05:04.384120Z",
     "iopub.status.idle": "2020-05-22T16:05:05.139283Z",
     "shell.execute_reply": "2020-05-22T16:05:05.138054Z",
     "shell.execute_reply.started": "2020-05-22T16:05:04.384395Z"
    }
   },
   "outputs": [],
   "source": [
    "# Import Movie Meta Data\n",
    "movie_meta = pd.read_csv('data/movies_metadata.csv', low_memory=False)"
   ]
  },
  {
   "cell_type": "markdown",
   "metadata": {},
   "source": [
    "## Run Pandas Profiling on Movies Meta"
   ]
  },
  {
   "cell_type": "code",
   "execution_count": 6,
   "metadata": {
    "execution": {
     "iopub.execute_input": "2020-05-22T16:05:05.141390Z",
     "iopub.status.busy": "2020-05-22T16:05:05.140819Z",
     "iopub.status.idle": "2020-05-22T16:05:05.236561Z",
     "shell.execute_reply": "2020-05-22T16:05:05.234405Z",
     "shell.execute_reply.started": "2020-05-22T16:05:05.141193Z"
    }
   },
   "outputs": [],
   "source": [
    "# Run Profiling about Movie Metadata\n",
    "profile = ProfileReport(movie_meta, title=\"Movie Metadata Profiling Report\", explorative=True)\n",
    "\n",
    "# Store Profile in 'cleaned_data' folder\n",
    "# profile.to_file(\"cleaned_data/movie_meta_profile.html\")"
   ]
  },
  {
   "cell_type": "code",
   "execution_count": 7,
   "metadata": {
    "execution": {
     "iopub.execute_input": "2020-05-22T16:05:05.240275Z",
     "iopub.status.busy": "2020-05-22T16:05:05.239501Z",
     "iopub.status.idle": "2020-05-22T16:05:05.325499Z",
     "shell.execute_reply": "2020-05-22T16:05:05.324360Z",
     "shell.execute_reply.started": "2020-05-22T16:05:05.240193Z"
    }
   },
   "outputs": [
    {
     "data": {
      "text/html": [
       "<div>\n",
       "<style scoped>\n",
       "    .dataframe tbody tr th:only-of-type {\n",
       "        vertical-align: middle;\n",
       "    }\n",
       "\n",
       "    .dataframe tbody tr th {\n",
       "        vertical-align: top;\n",
       "    }\n",
       "\n",
       "    .dataframe thead th {\n",
       "        text-align: right;\n",
       "    }\n",
       "</style>\n",
       "<table border=\"1\" class=\"dataframe\">\n",
       "  <thead>\n",
       "    <tr style=\"text-align: right;\">\n",
       "      <th></th>\n",
       "      <th>adult</th>\n",
       "      <th>belongs_to_collection</th>\n",
       "      <th>budget</th>\n",
       "      <th>genres</th>\n",
       "      <th>homepage</th>\n",
       "      <th>id</th>\n",
       "      <th>imdb_id</th>\n",
       "      <th>original_language</th>\n",
       "      <th>original_title</th>\n",
       "      <th>overview</th>\n",
       "      <th>...</th>\n",
       "      <th>release_date</th>\n",
       "      <th>revenue</th>\n",
       "      <th>runtime</th>\n",
       "      <th>spoken_languages</th>\n",
       "      <th>status</th>\n",
       "      <th>tagline</th>\n",
       "      <th>title</th>\n",
       "      <th>video</th>\n",
       "      <th>vote_average</th>\n",
       "      <th>vote_count</th>\n",
       "    </tr>\n",
       "  </thead>\n",
       "  <tbody>\n",
       "    <tr>\n",
       "      <th>0</th>\n",
       "      <td>False</td>\n",
       "      <td>{'id': 10194, 'name': 'Toy Story Collection', ...</td>\n",
       "      <td>30000000</td>\n",
       "      <td>[{'id': 16, 'name': 'Animation'}, {'id': 35, '...</td>\n",
       "      <td>http://toystory.disney.com/toy-story</td>\n",
       "      <td>862</td>\n",
       "      <td>tt0114709</td>\n",
       "      <td>en</td>\n",
       "      <td>Toy Story</td>\n",
       "      <td>Led by Woody, Andy's toys live happily in his ...</td>\n",
       "      <td>...</td>\n",
       "      <td>1995-10-30</td>\n",
       "      <td>373554033.0</td>\n",
       "      <td>81.0</td>\n",
       "      <td>[{'iso_639_1': 'en', 'name': 'English'}]</td>\n",
       "      <td>Released</td>\n",
       "      <td>NaN</td>\n",
       "      <td>Toy Story</td>\n",
       "      <td>False</td>\n",
       "      <td>7.7</td>\n",
       "      <td>5415.0</td>\n",
       "    </tr>\n",
       "    <tr>\n",
       "      <th>1</th>\n",
       "      <td>False</td>\n",
       "      <td>NaN</td>\n",
       "      <td>65000000</td>\n",
       "      <td>[{'id': 12, 'name': 'Adventure'}, {'id': 14, '...</td>\n",
       "      <td>NaN</td>\n",
       "      <td>8844</td>\n",
       "      <td>tt0113497</td>\n",
       "      <td>en</td>\n",
       "      <td>Jumanji</td>\n",
       "      <td>When siblings Judy and Peter discover an encha...</td>\n",
       "      <td>...</td>\n",
       "      <td>1995-12-15</td>\n",
       "      <td>262797249.0</td>\n",
       "      <td>104.0</td>\n",
       "      <td>[{'iso_639_1': 'en', 'name': 'English'}, {'iso...</td>\n",
       "      <td>Released</td>\n",
       "      <td>Roll the dice and unleash the excitement!</td>\n",
       "      <td>Jumanji</td>\n",
       "      <td>False</td>\n",
       "      <td>6.9</td>\n",
       "      <td>2413.0</td>\n",
       "    </tr>\n",
       "    <tr>\n",
       "      <th>2</th>\n",
       "      <td>False</td>\n",
       "      <td>{'id': 119050, 'name': 'Grumpy Old Men Collect...</td>\n",
       "      <td>0</td>\n",
       "      <td>[{'id': 10749, 'name': 'Romance'}, {'id': 35, ...</td>\n",
       "      <td>NaN</td>\n",
       "      <td>15602</td>\n",
       "      <td>tt0113228</td>\n",
       "      <td>en</td>\n",
       "      <td>Grumpier Old Men</td>\n",
       "      <td>A family wedding reignites the ancient feud be...</td>\n",
       "      <td>...</td>\n",
       "      <td>1995-12-22</td>\n",
       "      <td>0.0</td>\n",
       "      <td>101.0</td>\n",
       "      <td>[{'iso_639_1': 'en', 'name': 'English'}]</td>\n",
       "      <td>Released</td>\n",
       "      <td>Still Yelling. Still Fighting. Still Ready for...</td>\n",
       "      <td>Grumpier Old Men</td>\n",
       "      <td>False</td>\n",
       "      <td>6.5</td>\n",
       "      <td>92.0</td>\n",
       "    </tr>\n",
       "    <tr>\n",
       "      <th>3</th>\n",
       "      <td>False</td>\n",
       "      <td>NaN</td>\n",
       "      <td>16000000</td>\n",
       "      <td>[{'id': 35, 'name': 'Comedy'}, {'id': 18, 'nam...</td>\n",
       "      <td>NaN</td>\n",
       "      <td>31357</td>\n",
       "      <td>tt0114885</td>\n",
       "      <td>en</td>\n",
       "      <td>Waiting to Exhale</td>\n",
       "      <td>Cheated on, mistreated and stepped on, the wom...</td>\n",
       "      <td>...</td>\n",
       "      <td>1995-12-22</td>\n",
       "      <td>81452156.0</td>\n",
       "      <td>127.0</td>\n",
       "      <td>[{'iso_639_1': 'en', 'name': 'English'}]</td>\n",
       "      <td>Released</td>\n",
       "      <td>Friends are the people who let you be yourself...</td>\n",
       "      <td>Waiting to Exhale</td>\n",
       "      <td>False</td>\n",
       "      <td>6.1</td>\n",
       "      <td>34.0</td>\n",
       "    </tr>\n",
       "    <tr>\n",
       "      <th>4</th>\n",
       "      <td>False</td>\n",
       "      <td>{'id': 96871, 'name': 'Father of the Bride Col...</td>\n",
       "      <td>0</td>\n",
       "      <td>[{'id': 35, 'name': 'Comedy'}]</td>\n",
       "      <td>NaN</td>\n",
       "      <td>11862</td>\n",
       "      <td>tt0113041</td>\n",
       "      <td>en</td>\n",
       "      <td>Father of the Bride Part II</td>\n",
       "      <td>Just when George Banks has recovered from his ...</td>\n",
       "      <td>...</td>\n",
       "      <td>1995-02-10</td>\n",
       "      <td>76578911.0</td>\n",
       "      <td>106.0</td>\n",
       "      <td>[{'iso_639_1': 'en', 'name': 'English'}]</td>\n",
       "      <td>Released</td>\n",
       "      <td>Just When His World Is Back To Normal... He's ...</td>\n",
       "      <td>Father of the Bride Part II</td>\n",
       "      <td>False</td>\n",
       "      <td>5.7</td>\n",
       "      <td>173.0</td>\n",
       "    </tr>\n",
       "  </tbody>\n",
       "</table>\n",
       "<p>5 rows × 24 columns</p>\n",
       "</div>"
      ],
      "text/plain": [
       "   adult                              belongs_to_collection    budget  \\\n",
       "0  False  {'id': 10194, 'name': 'Toy Story Collection', ...  30000000   \n",
       "1  False                                                NaN  65000000   \n",
       "2  False  {'id': 119050, 'name': 'Grumpy Old Men Collect...         0   \n",
       "3  False                                                NaN  16000000   \n",
       "4  False  {'id': 96871, 'name': 'Father of the Bride Col...         0   \n",
       "\n",
       "                                              genres  \\\n",
       "0  [{'id': 16, 'name': 'Animation'}, {'id': 35, '...   \n",
       "1  [{'id': 12, 'name': 'Adventure'}, {'id': 14, '...   \n",
       "2  [{'id': 10749, 'name': 'Romance'}, {'id': 35, ...   \n",
       "3  [{'id': 35, 'name': 'Comedy'}, {'id': 18, 'nam...   \n",
       "4                     [{'id': 35, 'name': 'Comedy'}]   \n",
       "\n",
       "                               homepage     id    imdb_id original_language  \\\n",
       "0  http://toystory.disney.com/toy-story    862  tt0114709                en   \n",
       "1                                   NaN   8844  tt0113497                en   \n",
       "2                                   NaN  15602  tt0113228                en   \n",
       "3                                   NaN  31357  tt0114885                en   \n",
       "4                                   NaN  11862  tt0113041                en   \n",
       "\n",
       "                original_title  \\\n",
       "0                    Toy Story   \n",
       "1                      Jumanji   \n",
       "2             Grumpier Old Men   \n",
       "3            Waiting to Exhale   \n",
       "4  Father of the Bride Part II   \n",
       "\n",
       "                                            overview  ... release_date  \\\n",
       "0  Led by Woody, Andy's toys live happily in his ...  ...   1995-10-30   \n",
       "1  When siblings Judy and Peter discover an encha...  ...   1995-12-15   \n",
       "2  A family wedding reignites the ancient feud be...  ...   1995-12-22   \n",
       "3  Cheated on, mistreated and stepped on, the wom...  ...   1995-12-22   \n",
       "4  Just when George Banks has recovered from his ...  ...   1995-02-10   \n",
       "\n",
       "       revenue runtime                                   spoken_languages  \\\n",
       "0  373554033.0    81.0           [{'iso_639_1': 'en', 'name': 'English'}]   \n",
       "1  262797249.0   104.0  [{'iso_639_1': 'en', 'name': 'English'}, {'iso...   \n",
       "2          0.0   101.0           [{'iso_639_1': 'en', 'name': 'English'}]   \n",
       "3   81452156.0   127.0           [{'iso_639_1': 'en', 'name': 'English'}]   \n",
       "4   76578911.0   106.0           [{'iso_639_1': 'en', 'name': 'English'}]   \n",
       "\n",
       "     status                                            tagline  \\\n",
       "0  Released                                                NaN   \n",
       "1  Released          Roll the dice and unleash the excitement!   \n",
       "2  Released  Still Yelling. Still Fighting. Still Ready for...   \n",
       "3  Released  Friends are the people who let you be yourself...   \n",
       "4  Released  Just When His World Is Back To Normal... He's ...   \n",
       "\n",
       "                         title  video vote_average vote_count  \n",
       "0                    Toy Story  False          7.7     5415.0  \n",
       "1                      Jumanji  False          6.9     2413.0  \n",
       "2             Grumpier Old Men  False          6.5       92.0  \n",
       "3            Waiting to Exhale  False          6.1       34.0  \n",
       "4  Father of the Bride Part II  False          5.7      173.0  \n",
       "\n",
       "[5 rows x 24 columns]"
      ]
     },
     "execution_count": 7,
     "metadata": {},
     "output_type": "execute_result"
    }
   ],
   "source": [
    "movie_meta.head(5)"
   ]
  },
  {
   "cell_type": "markdown",
   "metadata": {},
   "source": [
    "## Find columns to keep"
   ]
  },
  {
   "cell_type": "code",
   "execution_count": 8,
   "metadata": {
    "execution": {
     "iopub.execute_input": "2020-05-22T16:05:05.327356Z",
     "iopub.status.busy": "2020-05-22T16:05:05.327043Z",
     "iopub.status.idle": "2020-05-22T16:05:05.363209Z",
     "shell.execute_reply": "2020-05-22T16:05:05.362013Z",
     "shell.execute_reply.started": "2020-05-22T16:05:05.327314Z"
    }
   },
   "outputs": [],
   "source": [
    "# Drop Columns with High Missing Value counts\n",
    "movie_meta.drop(columns=['belongs_to_collection', 'budget', 'homepage', 'tagline', 'video', 'poster_path', 'status', 'release_date', \n",
    "                         'revenue', 'runtime', 'spoken_languages', 'original_title', 'id', 'imdb_id', 'production_countries', 'genres', 'original_language'], \n",
    "                inplace=True)"
   ]
  },
  {
   "cell_type": "code",
   "execution_count": 9,
   "metadata": {
    "execution": {
     "iopub.execute_input": "2020-05-22T16:05:05.367746Z",
     "iopub.status.busy": "2020-05-22T16:05:05.367446Z",
     "iopub.status.idle": "2020-05-22T16:05:05.401743Z",
     "shell.execute_reply": "2020-05-22T16:05:05.400741Z",
     "shell.execute_reply.started": "2020-05-22T16:05:05.367711Z"
    }
   },
   "outputs": [],
   "source": [
    "# movie_meta['overview']"
   ]
  },
  {
   "cell_type": "markdown",
   "metadata": {},
   "source": [
    "## Clean Features"
   ]
  },
  {
   "cell_type": "code",
   "execution_count": 10,
   "metadata": {
    "execution": {
     "iopub.execute_input": "2020-05-22T16:05:05.403947Z",
     "iopub.status.busy": "2020-05-22T16:05:05.403592Z",
     "iopub.status.idle": "2020-05-22T16:05:06.757718Z",
     "shell.execute_reply": "2020-05-22T16:05:06.756637Z",
     "shell.execute_reply.started": "2020-05-22T16:05:05.403811Z"
    }
   },
   "outputs": [],
   "source": [
    "# Clean Production Companies\n",
    "movie_meta['production_companies'].fillna('[]', inplace=True)\n",
    "movie_meta['production_companies'] = movie_meta['production_companies'].apply(lambda x: ast.literal_eval(x)).apply(lambda x: x[0]['name'] if x else '')"
   ]
  },
  {
   "cell_type": "code",
   "execution_count": 11,
   "metadata": {
    "execution": {
     "iopub.execute_input": "2020-05-22T16:05:06.759996Z",
     "iopub.status.busy": "2020-05-22T16:05:06.759625Z",
     "iopub.status.idle": "2020-05-22T16:05:07.058628Z",
     "shell.execute_reply": "2020-05-22T16:05:07.057617Z",
     "shell.execute_reply.started": "2020-05-22T16:05:06.759956Z"
    }
   },
   "outputs": [
    {
     "data": {
      "image/png": "[encoded data removed]",
      "text/plain": [
       "<Figure size 720x504 with 1 Axes>"
      ]
     },
     "metadata": {},
     "output_type": "display_data"
    }
   ],
   "source": [
    "movies_w_n_reviews = movies['movie_id'].value_counts().value_counts()\n",
    "plt.figure(figsize = (10,7))\n",
    "plt.scatter( movies_w_n_reviews.index, movies_w_n_reviews)\n",
    "plt.xlabel(\"Number of Reviews\", fontsize = 16)\n",
    "plt.ylabel(\"Number of Products\", fontsize = 16);"
   ]
  },
  {
   "cell_type": "markdown",
   "metadata": {},
   "source": [
    "## Merge Movie Data to Visualize Corr"
   ]
  },
  {
   "cell_type": "code",
   "execution_count": 12,
   "metadata": {
    "execution": {
     "iopub.execute_input": "2020-05-22T16:05:07.059934Z",
     "iopub.status.busy": "2020-05-22T16:05:07.059645Z",
     "iopub.status.idle": "2020-05-22T16:05:07.151047Z",
     "shell.execute_reply": "2020-05-22T16:05:07.149775Z",
     "shell.execute_reply.started": "2020-05-22T16:05:07.059840Z"
    }
   },
   "outputs": [],
   "source": [
    "# Create Feature to merge on\n",
    "movies['title'] = movies['movie_title'].apply(lambda x: x.partition(\"(\")[0].strip())\n",
    "\n",
    "movies_full = movies.copy().merge(movie_meta.copy(), how='inner').drop(columns='title')"
   ]
  },
  {
   "cell_type": "code",
   "execution_count": 13,
   "metadata": {
    "execution": {
     "iopub.execute_input": "2020-05-22T16:05:07.152781Z",
     "iopub.status.busy": "2020-05-22T16:05:07.152517Z",
     "iopub.status.idle": "2020-05-22T16:05:07.201649Z",
     "shell.execute_reply": "2020-05-22T16:05:07.200163Z",
     "shell.execute_reply.started": "2020-05-22T16:05:07.152742Z"
    }
   },
   "outputs": [
    {
     "data": {
      "text/html": [
       "<div>\n",
       "<style scoped>\n",
       "    .dataframe tbody tr th:only-of-type {\n",
       "        vertical-align: middle;\n",
       "    }\n",
       "\n",
       "    .dataframe tbody tr th {\n",
       "        vertical-align: top;\n",
       "    }\n",
       "\n",
       "    .dataframe thead th {\n",
       "        text-align: right;\n",
       "    }\n",
       "</style>\n",
       "<table border=\"1\" class=\"dataframe\">\n",
       "  <thead>\n",
       "    <tr style=\"text-align: right;\">\n",
       "      <th></th>\n",
       "      <th>movie_id</th>\n",
       "      <th>year</th>\n",
       "      <th>vote_average</th>\n",
       "      <th>vote_count</th>\n",
       "    </tr>\n",
       "  </thead>\n",
       "  <tbody>\n",
       "    <tr>\n",
       "      <th>movie_id</th>\n",
       "      <td>1.000000</td>\n",
       "      <td>0.005636</td>\n",
       "      <td>-0.009674</td>\n",
       "      <td>-0.054607</td>\n",
       "    </tr>\n",
       "    <tr>\n",
       "      <th>year</th>\n",
       "      <td>0.005636</td>\n",
       "      <td>1.000000</td>\n",
       "      <td>-0.031067</td>\n",
       "      <td>-0.008760</td>\n",
       "    </tr>\n",
       "    <tr>\n",
       "      <th>vote_average</th>\n",
       "      <td>-0.009674</td>\n",
       "      <td>-0.031067</td>\n",
       "      <td>1.000000</td>\n",
       "      <td>0.228825</td>\n",
       "    </tr>\n",
       "    <tr>\n",
       "      <th>vote_count</th>\n",
       "      <td>-0.054607</td>\n",
       "      <td>-0.008760</td>\n",
       "      <td>0.228825</td>\n",
       "      <td>1.000000</td>\n",
       "    </tr>\n",
       "  </tbody>\n",
       "</table>\n",
       "</div>"
      ],
      "text/plain": [
       "              movie_id      year  vote_average  vote_count\n",
       "movie_id      1.000000  0.005636     -0.009674   -0.054607\n",
       "year          0.005636  1.000000     -0.031067   -0.008760\n",
       "vote_average -0.009674 -0.031067      1.000000    0.228825\n",
       "vote_count   -0.054607 -0.008760      0.228825    1.000000"
      ]
     },
     "execution_count": 13,
     "metadata": {},
     "output_type": "execute_result"
    }
   ],
   "source": [
    "movies_full.corr()"
   ]
  },
  {
   "cell_type": "code",
   "execution_count": 14,
   "metadata": {
    "execution": {
     "iopub.execute_input": "2020-05-22T16:05:07.203996Z",
     "iopub.status.busy": "2020-05-22T16:05:07.203591Z",
     "iopub.status.idle": "2020-05-22T16:05:07.500444Z",
     "shell.execute_reply": "2020-05-22T16:05:07.499350Z",
     "shell.execute_reply.started": "2020-05-22T16:05:07.203844Z"
    }
   },
   "outputs": [
    {
     "data": {
      "text/plain": [
       "<matplotlib.axes._subplots.AxesSubplot at 0x7f2626aafe10>"
      ]
     },
     "execution_count": 14,
     "metadata": {},
     "output_type": "execute_result"
    },
    {
     "data": {
      "image/png": "[encoded data removed]",
      "text/plain": [
       "<Figure size 432x288 with 2 Axes>"
      ]
     },
     "metadata": {},
     "output_type": "display_data"
    }
   ],
   "source": [
    "sns.heatmap(movies_full.corr())"
   ]
  },
  {
   "cell_type": "markdown",
   "metadata": {},
   "source": [
    "## Use PySpark Library for ALS"
   ]
  },
  {
   "cell_type": "code",
   "execution_count": 62,
   "metadata": {
    "execution": {
     "iopub.execute_input": "2020-05-22T17:06:31.499940Z",
     "iopub.status.busy": "2020-05-22T17:06:31.499313Z",
     "iopub.status.idle": "2020-05-22T17:06:56.864608Z",
     "shell.execute_reply": "2020-05-22T17:06:56.863692Z",
     "shell.execute_reply.started": "2020-05-22T17:06:31.499890Z"
    }
   },
   "outputs": [],
   "source": [
    "import pyspark as ps\n",
    "from pyspark.sql import SparkSession\n",
    "from pyspark.ml.evaluation import RegressionEvaluator\n",
    "from pyspark.ml.recommendation import ALS\n",
    "from pyspark.ml.tuning import CrossValidator, ParamGridBuilder\n",
    "\n",
    "spark = SparkSession.builder.getOrCreate()\n",
    "ratings = spark.createDataFrame(pd.read_csv('cleaned_data/ratings.csv'))\n",
    "\n",
    "train, test = ratings.randomSplit([0.8, 0.2])\n",
    "\n",
    "als = ALS(userCol='user',\n",
    "         itemCol='movie',\n",
    "         ratingCol='rating',\n",
    "         nonnegative=True)"
   ]
  },
  {
   "cell_type": "code",
   "execution_count": 63,
   "metadata": {
    "execution": {
     "iopub.execute_input": "2020-05-22T17:06:56.866139Z",
     "iopub.status.busy": "2020-05-22T17:06:56.865817Z",
     "iopub.status.idle": "2020-05-22T17:06:56.906939Z",
     "shell.execute_reply": "2020-05-22T17:06:56.905210Z",
     "shell.execute_reply.started": "2020-05-22T17:06:56.866064Z"
    }
   },
   "outputs": [],
   "source": [
    "param_grid = ParamGridBuilder() \\\n",
    "            .addGrid(als.rank, [10, 11, 12, 13, 14]) \\\n",
    "            .addGrid(als.maxIter, [15, 15, 18, 19, 20]) \\\n",
    "            .addGrid(als.regParam, [0.1, 0.2, .17, .18, .19]) \\\n",
    "            .build()"
   ]
  },
  {
   "cell_type": "code",
   "execution_count": 64,
   "metadata": {
    "execution": {
     "iopub.execute_input": "2020-05-22T17:06:56.910968Z",
     "iopub.status.busy": "2020-05-22T17:06:56.909530Z",
     "iopub.status.idle": "2020-05-22T17:06:56.959350Z",
     "shell.execute_reply": "2020-05-22T17:06:56.958341Z",
     "shell.execute_reply.started": "2020-05-22T17:06:56.910898Z"
    }
   },
   "outputs": [],
   "source": [
    "evaluator = RegressionEvaluator(metricName='rmse', labelCol='rating', predictionCol='prediction')"
   ]
  },
  {
   "cell_type": "code",
   "execution_count": 65,
   "metadata": {
    "execution": {
     "iopub.execute_input": "2020-05-22T17:06:56.960938Z",
     "iopub.status.busy": "2020-05-22T17:06:56.960707Z",
     "iopub.status.idle": "2020-05-22T17:06:57.002556Z",
     "shell.execute_reply": "2020-05-22T17:06:57.001367Z",
     "shell.execute_reply.started": "2020-05-22T17:06:56.960907Z"
    }
   },
   "outputs": [],
   "source": [
    "cv = CrossValidator(estimator=als,\n",
    "                    estimatorParamMaps=param_grid,\n",
    "                    evaluator=evaluator,\n",
    "                    numFolds=5) "
   ]
  },
  {
   "cell_type": "code",
   "execution_count": null,
   "metadata": {
    "execution": {
     "iopub.execute_input": "2020-05-22T17:06:57.005325Z",
     "iopub.status.busy": "2020-05-22T17:06:57.004823Z"
    }
   },
   "outputs": [],
   "source": [
    "model = cv.fit(train)"
   ]
  },
  {
   "cell_type": "code",
   "execution_count": null,
   "metadata": {},
   "outputs": [],
   "source": [
    "best_model = model.bestModel"
   ]
  },
  {
   "cell_type": "code",
   "execution_count": null,
   "metadata": {},
   "outputs": [],
   "source": [
    "predictions = best_model.transform(test)\n",
    "rmse = evaluator.evaluate(predictions)"
   ]
  },
  {
   "cell_type": "code",
   "execution_count": null,
   "metadata": {},
   "outputs": [],
   "source": [
    "predictions.show()"
   ]
  },
  {
   "cell_type": "code",
   "execution_count": null,
   "metadata": {},
   "outputs": [],
   "source": [
    "test_df = pd.read_csv('data/fake_testing.csv')"
   ]
  },
  {
   "cell_type": "code",
   "execution_count": null,
   "metadata": {},
   "outputs": [],
   "source": [
    "test_df['rating'] = test_df['actualrating']"
   ]
  },
  {
   "cell_type": "code",
   "execution_count": null,
   "metadata": {},
   "outputs": [],
   "source": [
    "test_df.drop(columns='actualrating', inplace=True)"
   ]
  },
  {
   "cell_type": "code",
   "execution_count": null,
   "metadata": {},
   "outputs": [],
   "source": [
    "test_ratings = spark.createDataFrame(test_df)"
   ]
  },
  {
   "cell_type": "code",
   "execution_count": null,
   "metadata": {},
   "outputs": [],
   "source": [
    "predictions = best_model.transform(test_ratings)\n",
    "rmse = evaluator.evaluate(predictions)"
   ]
  },
  {
   "cell_type": "code",
   "execution_count": null,
   "metadata": {},
   "outputs": [],
   "source": [
    "rmse"
   ]
  },
  {
   "cell_type": "code",
   "execution_count": null,
   "metadata": {},
   "outputs": [],
   "source": [
    "test_df.shape"
   ]
  },
  {
   "cell_type": "code",
   "execution_count": null,
   "metadata": {},
   "outputs": [],
   "source": [
    "predictions.show()"
   ]
  },
  {
   "cell_type": "code",
   "execution_count": null,
   "metadata": {},
   "outputs": [],
   "source": [
    "x = predictions.toPandas()\n",
    "x.shape"
   ]
  },
  {
   "cell_type": "code",
   "execution_count": null,
   "metadata": {},
   "outputs": [],
   "source": [
    "x[pd.isnull(x['prediction'])]"
   ]
  },
  {
   "cell_type": "markdown",
   "metadata": {},
   "source": [
    "## Item Item Collaborative Filtering"
   ]
  },
  {
   "cell_type": "code",
   "execution_count": null,
   "metadata": {},
   "outputs": [],
   "source": []
  },
  {
   "cell_type": "markdown",
   "metadata": {},
   "source": [
    "## Use Surprise Library for ALS"
   ]
  },
  {
   "cell_type": "code",
   "execution_count": null,
   "metadata": {},
   "outputs": [],
   "source": [
    "from surprise import Dataset, Reader, SVD, accuracy\n",
    "from surprise.model_selection import train_test_split\n",
    " \n",
    "    \n",
    "    \n",
    "reader = Reader(rating_scale=(1, 5))\n",
    "data = Dataset.load_from_df(ratings[['user','movie','rating']], reader)\n",
    "\n",
    "trainset, testset = train_test_split(data, test_size=.25)\n",
    "\n",
    "algorithm = SVD()\n",
    "algorithm.fit(trainset)\n",
    "\n",
    "predictions = algorithm.test(testset)"
   ]
  },
  {
   "cell_type": "code",
   "execution_count": null,
   "metadata": {},
   "outputs": [],
   "source": [
    "accuracy.rmse(predictions)"
   ]
  },
  {
   "cell_type": "code",
   "execution_count": null,
   "metadata": {},
   "outputs": [],
   "source": [
    "user_id = 7010"
   ]
  },
  {
   "cell_type": "code",
   "execution_count": null,
   "metadata": {},
   "outputs": [],
   "source": [
    "predicted_ratings = pred_user_rating(user_id)\n",
    "pdf = pd.DataFrame(predicted_ratings, columns = ['movies','ratings'])\n",
    "pdf.sort_values('ratings', ascending=False, inplace=True)  \n",
    "pdf.set_index('movies', inplace=True)\n",
    "pdf.head(10)"
   ]
  }
 ],
 "metadata": {
  "kernelspec": {
   "display_name": "Python 3",
   "language": "python",
   "name": "python3"
  },
  "language_info": {
   "codemirror_mode": {
    "name": "ipython",
    "version": 3
   },
   "file_extension": ".py",
   "mimetype": "text/x-python",
   "name": "python",
   "nbconvert_exporter": "python",
   "pygments_lexer": "ipython3",
   "version": "3.7.6"
  }
 },
 "nbformat": 4,
 "nbformat_minor": 4
}
