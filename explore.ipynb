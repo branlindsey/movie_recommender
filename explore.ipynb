{
 "cells": [
  {
   "cell_type": "code",
   "execution_count": 1,
   "metadata": {
    "execution": {
     "iopub.execute_input": "2020-05-21T21:37:41.828825Z",
     "iopub.status.busy": "2020-05-21T21:37:41.828305Z",
     "iopub.status.idle": "2020-05-21T21:37:41.856804Z",
     "shell.execute_reply": "2020-05-21T21:37:41.855655Z",
     "shell.execute_reply.started": "2020-05-21T21:37:41.828752Z"
    }
   },
   "outputs": [],
   "source": [
    "%load_ext autoreload\n",
    "%autoreload 2"
   ]
  },
  {
   "cell_type": "code",
   "execution_count": 2,
   "metadata": {
    "execution": {
     "iopub.execute_input": "2020-05-21T21:37:41.859199Z",
     "iopub.status.busy": "2020-05-21T21:37:41.858570Z",
     "iopub.status.idle": "2020-05-21T21:37:43.054322Z",
     "shell.execute_reply": "2020-05-21T21:37:43.053010Z",
     "shell.execute_reply.started": "2020-05-21T21:37:41.859142Z"
    }
   },
   "outputs": [],
   "source": [
    "# Import Modules\n",
    "import pandas as pd\n",
    "from matplotlib import pyplot as plt\n",
    "import numpy as np\n",
    "import pyspark\n",
    "from pyspark import SparkContext\n",
    "from pyspark import SparkConf\n",
    "from pyspark.sql import SparkSession\n",
    "from pyspark.ml.recommendation import ALS\n",
    "from pyspark.sql.functions import isnan, when, count, col\n",
    "\n",
    "\n",
    "%config InlineBackend.figure_format = 'retina'"
   ]
  },
  {
   "cell_type": "code",
   "execution_count": 51,
   "metadata": {
    "execution": {
     "iopub.execute_input": "2020-05-21T21:58:54.767153Z",
     "iopub.status.busy": "2020-05-21T21:58:54.766865Z",
     "iopub.status.idle": "2020-05-21T21:58:54.826528Z",
     "shell.execute_reply": "2020-05-21T21:58:54.824929Z",
     "shell.execute_reply.started": "2020-05-21T21:58:54.767114Z"
    }
   },
   "outputs": [],
   "source": [
    "# Import Custom Modules\n",
    "from src.helpers import *"
   ]
  },
  {
   "cell_type": "code",
   "execution_count": 18,
   "metadata": {
    "execution": {
     "iopub.execute_input": "2020-05-21T21:43:44.600222Z",
     "iopub.status.busy": "2020-05-21T21:43:44.599789Z",
     "iopub.status.idle": "2020-05-21T21:43:44.985977Z",
     "shell.execute_reply": "2020-05-21T21:43:44.984686Z",
     "shell.execute_reply.started": "2020-05-21T21:43:44.600186Z"
    }
   },
   "outputs": [
    {
     "name": "stdout",
     "output_type": "stream",
     "text": [
      "(800000, 3)\n"
     ]
    },
    {
     "data": {
      "text/html": [
       "<div>\n",
       "<style scoped>\n",
       "    .dataframe tbody tr th:only-of-type {\n",
       "        vertical-align: middle;\n",
       "    }\n",
       "\n",
       "    .dataframe tbody tr th {\n",
       "        vertical-align: top;\n",
       "    }\n",
       "\n",
       "    .dataframe thead th {\n",
       "        text-align: right;\n",
       "    }\n",
       "</style>\n",
       "<table border=\"1\" class=\"dataframe\">\n",
       "  <thead>\n",
       "    <tr style=\"text-align: right;\">\n",
       "      <th></th>\n",
       "      <th>user</th>\n",
       "      <th>movie</th>\n",
       "      <th>rating</th>\n",
       "    </tr>\n",
       "  </thead>\n",
       "  <tbody>\n",
       "    <tr>\n",
       "      <th>0</th>\n",
       "      <td>6040</td>\n",
       "      <td>858</td>\n",
       "      <td>4</td>\n",
       "    </tr>\n",
       "    <tr>\n",
       "      <th>1</th>\n",
       "      <td>6040</td>\n",
       "      <td>593</td>\n",
       "      <td>5</td>\n",
       "    </tr>\n",
       "    <tr>\n",
       "      <th>2</th>\n",
       "      <td>6040</td>\n",
       "      <td>2384</td>\n",
       "      <td>4</td>\n",
       "    </tr>\n",
       "    <tr>\n",
       "      <th>3</th>\n",
       "      <td>6040</td>\n",
       "      <td>1961</td>\n",
       "      <td>4</td>\n",
       "    </tr>\n",
       "    <tr>\n",
       "      <th>4</th>\n",
       "      <td>6040</td>\n",
       "      <td>2019</td>\n",
       "      <td>5</td>\n",
       "    </tr>\n",
       "  </tbody>\n",
       "</table>\n",
       "</div>"
      ],
      "text/plain": [
       "   user  movie  rating\n",
       "0  6040    858       4\n",
       "1  6040    593       5\n",
       "2  6040   2384       4\n",
       "3  6040   1961       4\n",
       "4  6040   2019       5"
      ]
     },
     "execution_count": 18,
     "metadata": {},
     "output_type": "execute_result"
    }
   ],
   "source": [
    "# Import Training Data \n",
    "ratings_df = pd.read_csv('data/training.csv').drop(columns='timestamp')\n",
    "\n",
    "print(ratings_df.shape)\n",
    "ratings_df.head()"
   ]
  },
  {
   "cell_type": "code",
   "execution_count": 22,
   "metadata": {
    "execution": {
     "iopub.execute_input": "2020-05-21T21:44:22.886097Z",
     "iopub.status.busy": "2020-05-21T21:44:22.885658Z",
     "iopub.status.idle": "2020-05-21T21:44:22.915338Z",
     "shell.execute_reply": "2020-05-21T21:44:22.914519Z",
     "shell.execute_reply.started": "2020-05-21T21:44:22.886060Z"
    }
   },
   "outputs": [
    {
     "data": {
      "text/plain": [
       "user      0\n",
       "movie     0\n",
       "rating    0\n",
       "dtype: int64"
      ]
     },
     "execution_count": 22,
     "metadata": {},
     "output_type": "execute_result"
    }
   ],
   "source": [
    "pd.isna(ratings_df).sum()"
   ]
  },
  {
   "cell_type": "code",
   "execution_count": 23,
   "metadata": {
    "execution": {
     "iopub.execute_input": "2020-05-21T21:44:26.019342Z",
     "iopub.status.busy": "2020-05-21T21:44:26.018673Z",
     "iopub.status.idle": "2020-05-21T21:44:26.113940Z",
     "shell.execute_reply": "2020-05-21T21:44:26.112846Z",
     "shell.execute_reply.started": "2020-05-21T21:44:26.019202Z"
    }
   },
   "outputs": [
    {
     "name": "stdout",
     "output_type": "stream",
     "text": [
      "Original: (3662,) Load: (3883, 3)\n"
     ]
    },
    {
     "data": {
      "text/html": [
       "<div>\n",
       "<style scoped>\n",
       "    .dataframe tbody tr th:only-of-type {\n",
       "        vertical-align: middle;\n",
       "    }\n",
       "\n",
       "    .dataframe tbody tr th {\n",
       "        vertical-align: top;\n",
       "    }\n",
       "\n",
       "    .dataframe thead th {\n",
       "        text-align: right;\n",
       "    }\n",
       "</style>\n",
       "<table border=\"1\" class=\"dataframe\">\n",
       "  <thead>\n",
       "    <tr style=\"text-align: right;\">\n",
       "      <th></th>\n",
       "      <th>movie_id</th>\n",
       "      <th>movie_title</th>\n",
       "      <th>genre</th>\n",
       "    </tr>\n",
       "  </thead>\n",
       "  <tbody>\n",
       "    <tr>\n",
       "      <th>0</th>\n",
       "      <td>1</td>\n",
       "      <td>Toy Story (1995)</td>\n",
       "      <td>Animation|Children's|Comedy</td>\n",
       "    </tr>\n",
       "    <tr>\n",
       "      <th>1</th>\n",
       "      <td>2</td>\n",
       "      <td>Jumanji (1995)</td>\n",
       "      <td>Adventure|Children's|Fantasy</td>\n",
       "    </tr>\n",
       "  </tbody>\n",
       "</table>\n",
       "</div>"
      ],
      "text/plain": [
       "   movie_id       movie_title                         genre\n",
       "0         1  Toy Story (1995)   Animation|Children's|Comedy\n",
       "1         2    Jumanji (1995)  Adventure|Children's|Fantasy"
      ]
     },
     "execution_count": 23,
     "metadata": {},
     "output_type": "execute_result"
    }
   ],
   "source": [
    "# Load Movies DAT\n",
    "movies_df = pd.read_csv('data/movies.dat',\n",
    "                        names=['movie_id', 'movie_title', 'genre'],\n",
    "                        engine='python',\n",
    "                        delimiter=\"::\",\n",
    "                        header=None) \n",
    "\n",
    "print(f\"Original: {ratings_df['movie'].unique().shape} Load: {movies_df.shape}\")\n",
    "movies_df.head(2)"
   ]
  },
  {
   "cell_type": "code",
   "execution_count": 43,
   "metadata": {
    "execution": {
     "iopub.execute_input": "2020-05-21T21:55:32.122733Z",
     "iopub.status.busy": "2020-05-21T21:55:32.122413Z",
     "iopub.status.idle": "2020-05-21T21:55:32.154691Z",
     "shell.execute_reply": "2020-05-21T21:55:32.152702Z",
     "shell.execute_reply.started": "2020-05-21T21:55:32.122697Z"
    }
   },
   "outputs": [],
   "source": [
    "# pd.isnull(movies_df).sum()\n",
    "\n",
    "# movies_df.info()"
   ]
  },
  {
   "cell_type": "code",
   "execution_count": 50,
   "metadata": {
    "execution": {
     "iopub.execute_input": "2020-05-21T21:56:59.436319Z",
     "iopub.status.busy": "2020-05-21T21:56:59.435745Z",
     "iopub.status.idle": "2020-05-21T21:56:59.550157Z",
     "shell.execute_reply": "2020-05-21T21:56:59.548916Z",
     "shell.execute_reply.started": "2020-05-21T21:56:59.436262Z"
    }
   },
   "outputs": [
    {
     "name": "stdout",
     "output_type": "stream",
     "text": [
      "Original: (5399,) Load: (6040, 5)\n"
     ]
    },
    {
     "data": {
      "text/html": [
       "<div>\n",
       "<style scoped>\n",
       "    .dataframe tbody tr th:only-of-type {\n",
       "        vertical-align: middle;\n",
       "    }\n",
       "\n",
       "    .dataframe tbody tr th {\n",
       "        vertical-align: top;\n",
       "    }\n",
       "\n",
       "    .dataframe thead th {\n",
       "        text-align: right;\n",
       "    }\n",
       "</style>\n",
       "<table border=\"1\" class=\"dataframe\">\n",
       "  <thead>\n",
       "    <tr style=\"text-align: right;\">\n",
       "      <th></th>\n",
       "      <th>user_id</th>\n",
       "      <th>gender</th>\n",
       "      <th>age</th>\n",
       "      <th>occ</th>\n",
       "      <th>zipcode</th>\n",
       "    </tr>\n",
       "  </thead>\n",
       "  <tbody>\n",
       "    <tr>\n",
       "      <th>0</th>\n",
       "      <td>1</td>\n",
       "      <td>F</td>\n",
       "      <td>1</td>\n",
       "      <td>10</td>\n",
       "      <td>48067</td>\n",
       "    </tr>\n",
       "    <tr>\n",
       "      <th>1</th>\n",
       "      <td>2</td>\n",
       "      <td>M</td>\n",
       "      <td>56</td>\n",
       "      <td>16</td>\n",
       "      <td>70072</td>\n",
       "    </tr>\n",
       "  </tbody>\n",
       "</table>\n",
       "</div>"
      ],
      "text/plain": [
       "   user_id gender  age  occ zipcode\n",
       "0        1      F    1   10   48067\n",
       "1        2      M   56   16   70072"
      ]
     },
     "execution_count": 50,
     "metadata": {},
     "output_type": "execute_result"
    }
   ],
   "source": [
    "# Load Users DAT\n",
    "users_df = pd.read_csv('data/users.dat',\n",
    "                        names=['user_id', 'gender', 'age', 'occ', 'zipcode'],\n",
    "                        engine='python',\n",
    "                        delimiter=\"::\",\n",
    "                        header=None) \n",
    "\n",
    "print(f\"Original: {ratings_df['user'].unique().shape} Load: {users_df.shape}\")\n",
    "users_df.head(2)"
   ]
  },
  {
   "cell_type": "markdown",
   "metadata": {},
   "source": [
    "## Create Movie Features"
   ]
  },
  {
   "cell_type": "code",
   "execution_count": 57,
   "metadata": {
    "execution": {
     "iopub.execute_input": "2020-05-21T22:00:40.072629Z",
     "iopub.status.busy": "2020-05-21T22:00:40.072264Z",
     "iopub.status.idle": "2020-05-21T22:00:40.123713Z",
     "shell.execute_reply": "2020-05-21T22:00:40.122552Z",
     "shell.execute_reply.started": "2020-05-21T22:00:40.072591Z"
    }
   },
   "outputs": [],
   "source": [
    "# Create Year Feature\n",
    "movies_df['year'] = movies_df['movie_title'].apply(lambda x: int(getReMax(x)))"
   ]
  },
  {
   "cell_type": "code",
   "execution_count": 59,
   "metadata": {
    "execution": {
     "iopub.execute_input": "2020-05-21T22:01:25.902617Z",
     "iopub.status.busy": "2020-05-21T22:01:25.902336Z",
     "iopub.status.idle": "2020-05-21T22:01:25.958245Z",
     "shell.execute_reply": "2020-05-21T22:01:25.956950Z",
     "shell.execute_reply.started": "2020-05-21T22:01:25.902579Z"
    }
   },
   "outputs": [
    {
     "data": {
      "text/html": [
       "<div>\n",
       "<style scoped>\n",
       "    .dataframe tbody tr th:only-of-type {\n",
       "        vertical-align: middle;\n",
       "    }\n",
       "\n",
       "    .dataframe tbody tr th {\n",
       "        vertical-align: top;\n",
       "    }\n",
       "\n",
       "    .dataframe thead th {\n",
       "        text-align: right;\n",
       "    }\n",
       "</style>\n",
       "<table border=\"1\" class=\"dataframe\">\n",
       "  <thead>\n",
       "    <tr style=\"text-align: right;\">\n",
       "      <th></th>\n",
       "      <th>movie_id</th>\n",
       "      <th>movie_title</th>\n",
       "      <th>genre</th>\n",
       "      <th>year</th>\n",
       "    </tr>\n",
       "  </thead>\n",
       "  <tbody>\n",
       "    <tr>\n",
       "      <th>0</th>\n",
       "      <td>1</td>\n",
       "      <td>Toy Story (1995)</td>\n",
       "      <td>Animation Children's Comedy</td>\n",
       "      <td>1995</td>\n",
       "    </tr>\n",
       "    <tr>\n",
       "      <th>1</th>\n",
       "      <td>2</td>\n",
       "      <td>Jumanji (1995)</td>\n",
       "      <td>Adventure Children's Fantasy</td>\n",
       "      <td>1995</td>\n",
       "    </tr>\n",
       "    <tr>\n",
       "      <th>2</th>\n",
       "      <td>3</td>\n",
       "      <td>Grumpier Old Men (1995)</td>\n",
       "      <td>Comedy Romance</td>\n",
       "      <td>1995</td>\n",
       "    </tr>\n",
       "    <tr>\n",
       "      <th>3</th>\n",
       "      <td>4</td>\n",
       "      <td>Waiting to Exhale (1995)</td>\n",
       "      <td>Comedy Drama</td>\n",
       "      <td>1995</td>\n",
       "    </tr>\n",
       "    <tr>\n",
       "      <th>4</th>\n",
       "      <td>5</td>\n",
       "      <td>Father of the Bride Part II (1995)</td>\n",
       "      <td>Comedy</td>\n",
       "      <td>1995</td>\n",
       "    </tr>\n",
       "    <tr>\n",
       "      <th>...</th>\n",
       "      <td>...</td>\n",
       "      <td>...</td>\n",
       "      <td>...</td>\n",
       "      <td>...</td>\n",
       "    </tr>\n",
       "    <tr>\n",
       "      <th>3878</th>\n",
       "      <td>3948</td>\n",
       "      <td>Meet the Parents (2000)</td>\n",
       "      <td>Comedy</td>\n",
       "      <td>2000</td>\n",
       "    </tr>\n",
       "    <tr>\n",
       "      <th>3879</th>\n",
       "      <td>3949</td>\n",
       "      <td>Requiem for a Dream (2000)</td>\n",
       "      <td>Drama</td>\n",
       "      <td>2000</td>\n",
       "    </tr>\n",
       "    <tr>\n",
       "      <th>3880</th>\n",
       "      <td>3950</td>\n",
       "      <td>Tigerland (2000)</td>\n",
       "      <td>Drama</td>\n",
       "      <td>2000</td>\n",
       "    </tr>\n",
       "    <tr>\n",
       "      <th>3881</th>\n",
       "      <td>3951</td>\n",
       "      <td>Two Family House (2000)</td>\n",
       "      <td>Drama</td>\n",
       "      <td>2000</td>\n",
       "    </tr>\n",
       "    <tr>\n",
       "      <th>3882</th>\n",
       "      <td>3952</td>\n",
       "      <td>Contender, The (2000)</td>\n",
       "      <td>Drama Thriller</td>\n",
       "      <td>2000</td>\n",
       "    </tr>\n",
       "  </tbody>\n",
       "</table>\n",
       "<p>3883 rows × 4 columns</p>\n",
       "</div>"
      ],
      "text/plain": [
       "      movie_id                         movie_title  \\\n",
       "0            1                    Toy Story (1995)   \n",
       "1            2                      Jumanji (1995)   \n",
       "2            3             Grumpier Old Men (1995)   \n",
       "3            4            Waiting to Exhale (1995)   \n",
       "4            5  Father of the Bride Part II (1995)   \n",
       "...        ...                                 ...   \n",
       "3878      3948             Meet the Parents (2000)   \n",
       "3879      3949          Requiem for a Dream (2000)   \n",
       "3880      3950                    Tigerland (2000)   \n",
       "3881      3951             Two Family House (2000)   \n",
       "3882      3952               Contender, The (2000)   \n",
       "\n",
       "                             genre  year  \n",
       "0      Animation Children's Comedy  1995  \n",
       "1     Adventure Children's Fantasy  1995  \n",
       "2                   Comedy Romance  1995  \n",
       "3                     Comedy Drama  1995  \n",
       "4                           Comedy  1995  \n",
       "...                            ...   ...  \n",
       "3878                        Comedy  2000  \n",
       "3879                         Drama  2000  \n",
       "3880                         Drama  2000  \n",
       "3881                         Drama  2000  \n",
       "3882                Drama Thriller  2000  \n",
       "\n",
       "[3883 rows x 4 columns]"
      ]
     },
     "execution_count": 59,
     "metadata": {},
     "output_type": "execute_result"
    }
   ],
   "source": [
    "# Remove Genre Pipe\n",
    "movies_df['genre'] = movies_df['genre'].apply(lambda x: x.replace(\"|\", \" \"))"
   ]
  },
  {
   "cell_type": "markdown",
   "metadata": {
    "execution": {
     "iopub.execute_input": "2020-05-21T21:56:24.570897Z",
     "iopub.status.busy": "2020-05-21T21:56:24.570456Z",
     "iopub.status.idle": "2020-05-21T21:56:24.595062Z",
     "shell.execute_reply": "2020-05-21T21:56:24.593680Z",
     "shell.execute_reply.started": "2020-05-21T21:56:24.570733Z"
    }
   },
   "source": [
    "## Create User Features"
   ]
  },
  {
   "cell_type": "code",
   "execution_count": 40,
   "metadata": {
    "execution": {
     "iopub.execute_input": "2020-05-21T21:49:48.528031Z",
     "iopub.status.busy": "2020-05-21T21:49:48.527259Z",
     "iopub.status.idle": "2020-05-21T21:49:48.564519Z",
     "shell.execute_reply": "2020-05-21T21:49:48.562504Z",
     "shell.execute_reply.started": "2020-05-21T21:49:48.527948Z"
    }
   },
   "outputs": [],
   "source": [
    "# Create Clean Zipcode\n",
    "users_df['zipclean'] = users_df['zipcode'].apply(lambda x: x.partition('-')[0])"
   ]
  },
  {
   "cell_type": "code",
   "execution_count": 48,
   "metadata": {
    "execution": {
     "iopub.execute_input": "2020-05-21T21:56:34.765138Z",
     "iopub.status.busy": "2020-05-21T21:56:34.764864Z",
     "iopub.status.idle": "2020-05-21T21:56:34.803085Z",
     "shell.execute_reply": "2020-05-21T21:56:34.801782Z",
     "shell.execute_reply.started": "2020-05-21T21:56:34.765104Z"
    }
   },
   "outputs": [],
   "source": [
    "# Create Occupation Name Feature\n",
    "occ_map = {\n",
    "0:  \"other\", \n",
    "1:  \"academic/educator\",\n",
    "2:  \"artist\",\n",
    "3:  \"clerical/admin\",\n",
    "4:  \"college/grad student\",\n",
    "5:  \"customer service\",\n",
    "6:  \"doctor/health care\",\n",
    "7:  \"executive/managerial\",\n",
    "8:  \"farmer\",\n",
    "9:  \"homemaker\",\n",
    "10:  \"K-12 student\",\n",
    "11:  \"lawyer\",\n",
    "12:  \"programmer\",\n",
    "13:  \"retired\",\n",
    "14:  \"sales/marketing\",\n",
    "15:  \"scientist\",\n",
    "16:  \"self-employed\",\n",
    "17:  \"technician/engineer\",\n",
    "18:  \"tradesman/craftsman\",\n",
    "19:  \"unemployed\",\n",
    "20:  \"writer\",\n",
    "}\n",
    "\n",
    "users_df['occ_name'] = users_df['occ'].map(occ_map)"
   ]
  },
  {
   "cell_type": "code",
   "execution_count": 49,
   "metadata": {
    "execution": {
     "iopub.execute_input": "2020-05-21T21:56:36.458641Z",
     "iopub.status.busy": "2020-05-21T21:56:36.458208Z",
     "iopub.status.idle": "2020-05-21T21:56:36.508895Z",
     "shell.execute_reply": "2020-05-21T21:56:36.506897Z",
     "shell.execute_reply.started": "2020-05-21T21:56:36.458517Z"
    }
   },
   "outputs": [
    {
     "data": {
      "text/html": [
       "<div>\n",
       "<style scoped>\n",
       "    .dataframe tbody tr th:only-of-type {\n",
       "        vertical-align: middle;\n",
       "    }\n",
       "\n",
       "    .dataframe tbody tr th {\n",
       "        vertical-align: top;\n",
       "    }\n",
       "\n",
       "    .dataframe thead th {\n",
       "        text-align: right;\n",
       "    }\n",
       "</style>\n",
       "<table border=\"1\" class=\"dataframe\">\n",
       "  <thead>\n",
       "    <tr style=\"text-align: right;\">\n",
       "      <th></th>\n",
       "      <th>user_id</th>\n",
       "      <th>gender</th>\n",
       "      <th>age</th>\n",
       "      <th>occ</th>\n",
       "      <th>zipcode</th>\n",
       "      <th>zipclean</th>\n",
       "      <th>occ_name</th>\n",
       "    </tr>\n",
       "  </thead>\n",
       "  <tbody>\n",
       "    <tr>\n",
       "      <th>0</th>\n",
       "      <td>1</td>\n",
       "      <td>F</td>\n",
       "      <td>1</td>\n",
       "      <td>10</td>\n",
       "      <td>48067</td>\n",
       "      <td>48067</td>\n",
       "      <td>K-12 student</td>\n",
       "    </tr>\n",
       "    <tr>\n",
       "      <th>1</th>\n",
       "      <td>2</td>\n",
       "      <td>M</td>\n",
       "      <td>56</td>\n",
       "      <td>16</td>\n",
       "      <td>70072</td>\n",
       "      <td>70072</td>\n",
       "      <td>self-employed</td>\n",
       "    </tr>\n",
       "    <tr>\n",
       "      <th>2</th>\n",
       "      <td>3</td>\n",
       "      <td>M</td>\n",
       "      <td>25</td>\n",
       "      <td>15</td>\n",
       "      <td>55117</td>\n",
       "      <td>55117</td>\n",
       "      <td>scientist</td>\n",
       "    </tr>\n",
       "    <tr>\n",
       "      <th>3</th>\n",
       "      <td>4</td>\n",
       "      <td>M</td>\n",
       "      <td>45</td>\n",
       "      <td>7</td>\n",
       "      <td>02460</td>\n",
       "      <td>02460</td>\n",
       "      <td>executive/managerial</td>\n",
       "    </tr>\n",
       "    <tr>\n",
       "      <th>4</th>\n",
       "      <td>5</td>\n",
       "      <td>M</td>\n",
       "      <td>25</td>\n",
       "      <td>20</td>\n",
       "      <td>55455</td>\n",
       "      <td>55455</td>\n",
       "      <td>writer</td>\n",
       "    </tr>\n",
       "    <tr>\n",
       "      <th>...</th>\n",
       "      <td>...</td>\n",
       "      <td>...</td>\n",
       "      <td>...</td>\n",
       "      <td>...</td>\n",
       "      <td>...</td>\n",
       "      <td>...</td>\n",
       "      <td>...</td>\n",
       "    </tr>\n",
       "    <tr>\n",
       "      <th>6035</th>\n",
       "      <td>6036</td>\n",
       "      <td>F</td>\n",
       "      <td>25</td>\n",
       "      <td>15</td>\n",
       "      <td>32603</td>\n",
       "      <td>32603</td>\n",
       "      <td>scientist</td>\n",
       "    </tr>\n",
       "    <tr>\n",
       "      <th>6036</th>\n",
       "      <td>6037</td>\n",
       "      <td>F</td>\n",
       "      <td>45</td>\n",
       "      <td>1</td>\n",
       "      <td>76006</td>\n",
       "      <td>76006</td>\n",
       "      <td>academic/educator</td>\n",
       "    </tr>\n",
       "    <tr>\n",
       "      <th>6037</th>\n",
       "      <td>6038</td>\n",
       "      <td>F</td>\n",
       "      <td>56</td>\n",
       "      <td>1</td>\n",
       "      <td>14706</td>\n",
       "      <td>14706</td>\n",
       "      <td>academic/educator</td>\n",
       "    </tr>\n",
       "    <tr>\n",
       "      <th>6038</th>\n",
       "      <td>6039</td>\n",
       "      <td>F</td>\n",
       "      <td>45</td>\n",
       "      <td>0</td>\n",
       "      <td>01060</td>\n",
       "      <td>01060</td>\n",
       "      <td>other</td>\n",
       "    </tr>\n",
       "    <tr>\n",
       "      <th>6039</th>\n",
       "      <td>6040</td>\n",
       "      <td>M</td>\n",
       "      <td>25</td>\n",
       "      <td>6</td>\n",
       "      <td>11106</td>\n",
       "      <td>11106</td>\n",
       "      <td>doctor/health care</td>\n",
       "    </tr>\n",
       "  </tbody>\n",
       "</table>\n",
       "<p>6040 rows × 7 columns</p>\n",
       "</div>"
      ],
      "text/plain": [
       "      user_id gender  age  occ zipcode zipclean              occ_name\n",
       "0           1      F    1   10   48067    48067          K-12 student\n",
       "1           2      M   56   16   70072    70072         self-employed\n",
       "2           3      M   25   15   55117    55117             scientist\n",
       "3           4      M   45    7   02460    02460  executive/managerial\n",
       "4           5      M   25   20   55455    55455                writer\n",
       "...       ...    ...  ...  ...     ...      ...                   ...\n",
       "6035     6036      F   25   15   32603    32603             scientist\n",
       "6036     6037      F   45    1   76006    76006     academic/educator\n",
       "6037     6038      F   56    1   14706    14706     academic/educator\n",
       "6038     6039      F   45    0   01060    01060                 other\n",
       "6039     6040      M   25    6   11106    11106    doctor/health care\n",
       "\n",
       "[6040 rows x 7 columns]"
      ]
     },
     "execution_count": 49,
     "metadata": {},
     "output_type": "execute_result"
    }
   ],
   "source": []
  }
 ],
 "metadata": {
  "kernelspec": {
   "display_name": "Python 3",
   "language": "python",
   "name": "python3"
  },
  "language_info": {
   "codemirror_mode": {
    "name": "ipython",
    "version": 3
   },
   "file_extension": ".py",
   "mimetype": "text/x-python",
   "name": "python",
   "nbconvert_exporter": "python",
   "pygments_lexer": "ipython3",
   "version": "3.7.6"
  }
 },
 "nbformat": 4,
 "nbformat_minor": 4
}
