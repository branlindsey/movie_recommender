{
 "cells": [
  {
   "cell_type": "code",
   "execution_count": null,
   "metadata": {},
   "outputs": [],
   "source": [
    "%load_ext autoreload\n",
    "%autoreload 2"
   ]
  },
  {
   "cell_type": "code",
   "execution_count": 2,
   "metadata": {
    "execution": {
     "iopub.status.idle": "2020-05-21T22:19:27.623603Z",
     "shell.execute_reply": "2020-05-21T22:19:27.622412Z",
     "shell.execute_reply.started": "2020-05-21T22:19:26.976276Z"
    }
   },
   "outputs": [],
   "source": [
    "# Import Modules\n",
    "import pandas as pd\n",
    "from matplotlib import pyplot as plt\n",
    "import numpy as np"
   ]
  },
  {
   "cell_type": "code",
   "execution_count": 3,
   "metadata": {
    "execution": {
     "iopub.execute_input": "2020-05-21T22:19:27.626923Z",
     "iopub.status.busy": "2020-05-21T22:19:27.626295Z",
     "iopub.status.idle": "2020-05-21T22:19:27.674643Z",
     "shell.execute_reply": "2020-05-21T22:19:27.672714Z",
     "shell.execute_reply.started": "2020-05-21T22:19:27.626828Z"
    }
   },
   "outputs": [],
   "source": [
    "# Import Custom Modules\n",
    "from src.helpers import *"
   ]
  },
  {
   "cell_type": "code",
   "execution_count": 4,
   "metadata": {
    "execution": {
     "iopub.execute_input": "2020-05-21T22:19:27.678886Z",
     "iopub.status.busy": "2020-05-21T22:19:27.678377Z",
     "iopub.status.idle": "2020-05-21T22:19:28.087014Z",
     "shell.execute_reply": "2020-05-21T22:19:28.084816Z",
     "shell.execute_reply.started": "2020-05-21T22:19:27.678818Z"
    }
   },
   "outputs": [
    {
     "name": "stdout",
     "output_type": "stream",
     "text": [
      "(800000, 3)\n"
     ]
    },
    {
     "data": {
      "text/html": [
       "<div>\n",
       "<style scoped>\n",
       "    .dataframe tbody tr th:only-of-type {\n",
       "        vertical-align: middle;\n",
       "    }\n",
       "\n",
       "    .dataframe tbody tr th {\n",
       "        vertical-align: top;\n",
       "    }\n",
       "\n",
       "    .dataframe thead th {\n",
       "        text-align: right;\n",
       "    }\n",
       "</style>\n",
       "<table border=\"1\" class=\"dataframe\">\n",
       "  <thead>\n",
       "    <tr style=\"text-align: right;\">\n",
       "      <th></th>\n",
       "      <th>user</th>\n",
       "      <th>movie</th>\n",
       "      <th>rating</th>\n",
       "    </tr>\n",
       "  </thead>\n",
       "  <tbody>\n",
       "    <tr>\n",
       "      <th>0</th>\n",
       "      <td>6040</td>\n",
       "      <td>858</td>\n",
       "      <td>4</td>\n",
       "    </tr>\n",
       "    <tr>\n",
       "      <th>1</th>\n",
       "      <td>6040</td>\n",
       "      <td>593</td>\n",
       "      <td>5</td>\n",
       "    </tr>\n",
       "    <tr>\n",
       "      <th>2</th>\n",
       "      <td>6040</td>\n",
       "      <td>2384</td>\n",
       "      <td>4</td>\n",
       "    </tr>\n",
       "    <tr>\n",
       "      <th>3</th>\n",
       "      <td>6040</td>\n",
       "      <td>1961</td>\n",
       "      <td>4</td>\n",
       "    </tr>\n",
       "    <tr>\n",
       "      <th>4</th>\n",
       "      <td>6040</td>\n",
       "      <td>2019</td>\n",
       "      <td>5</td>\n",
       "    </tr>\n",
       "  </tbody>\n",
       "</table>\n",
       "</div>"
      ],
      "text/plain": [
       "   user  movie  rating\n",
       "0  6040    858       4\n",
       "1  6040    593       5\n",
       "2  6040   2384       4\n",
       "3  6040   1961       4\n",
       "4  6040   2019       5"
      ]
     },
     "execution_count": 4,
     "metadata": {},
     "output_type": "execute_result"
    }
   ],
   "source": [
    "# Import Training Data \n",
    "ratings_df = pd.read_csv('data/training.csv').drop(columns='timestamp')\n",
    "\n",
    "print(ratings_df.shape)\n",
    "ratings_df.head()"
   ]
  },
  {
   "cell_type": "code",
   "execution_count": 5,
   "metadata": {
    "execution": {
     "iopub.execute_input": "2020-05-21T22:19:28.088752Z",
     "iopub.status.busy": "2020-05-21T22:19:28.088460Z",
     "iopub.status.idle": "2020-05-21T22:19:28.133115Z",
     "shell.execute_reply": "2020-05-21T22:19:28.130441Z",
     "shell.execute_reply.started": "2020-05-21T22:19:28.088716Z"
    }
   },
   "outputs": [
    {
     "data": {
      "text/plain": [
       "user      0\n",
       "movie     0\n",
       "rating    0\n",
       "dtype: int64"
      ]
     },
     "execution_count": 5,
     "metadata": {},
     "output_type": "execute_result"
    }
   ],
   "source": [
    "pd.isna(ratings_df).sum()"
   ]
  },
  {
   "cell_type": "code",
   "execution_count": 6,
   "metadata": {
    "execution": {
     "iopub.execute_input": "2020-05-21T22:19:28.136628Z",
     "iopub.status.busy": "2020-05-21T22:19:28.136217Z",
     "iopub.status.idle": "2020-05-21T22:19:28.242383Z",
     "shell.execute_reply": "2020-05-21T22:19:28.239615Z",
     "shell.execute_reply.started": "2020-05-21T22:19:28.136577Z"
    }
   },
   "outputs": [
    {
     "name": "stdout",
     "output_type": "stream",
     "text": [
      "Original: (3662,) Load: (3883, 3)\n"
     ]
    },
    {
     "data": {
      "text/html": [
       "<div>\n",
       "<style scoped>\n",
       "    .dataframe tbody tr th:only-of-type {\n",
       "        vertical-align: middle;\n",
       "    }\n",
       "\n",
       "    .dataframe tbody tr th {\n",
       "        vertical-align: top;\n",
       "    }\n",
       "\n",
       "    .dataframe thead th {\n",
       "        text-align: right;\n",
       "    }\n",
       "</style>\n",
       "<table border=\"1\" class=\"dataframe\">\n",
       "  <thead>\n",
       "    <tr style=\"text-align: right;\">\n",
       "      <th></th>\n",
       "      <th>movie_id</th>\n",
       "      <th>movie_title</th>\n",
       "      <th>genre</th>\n",
       "    </tr>\n",
       "  </thead>\n",
       "  <tbody>\n",
       "    <tr>\n",
       "      <th>0</th>\n",
       "      <td>1</td>\n",
       "      <td>Toy Story (1995)</td>\n",
       "      <td>Animation|Children's|Comedy</td>\n",
       "    </tr>\n",
       "    <tr>\n",
       "      <th>1</th>\n",
       "      <td>2</td>\n",
       "      <td>Jumanji (1995)</td>\n",
       "      <td>Adventure|Children's|Fantasy</td>\n",
       "    </tr>\n",
       "  </tbody>\n",
       "</table>\n",
       "</div>"
      ],
      "text/plain": [
       "   movie_id       movie_title                         genre\n",
       "0         1  Toy Story (1995)   Animation|Children's|Comedy\n",
       "1         2    Jumanji (1995)  Adventure|Children's|Fantasy"
      ]
     },
     "execution_count": 6,
     "metadata": {},
     "output_type": "execute_result"
    }
   ],
   "source": [
    "# Load Movies DAT\n",
    "movies_df = pd.read_csv('data/movies.dat',\n",
    "                        names=['movie_id', 'movie_title', 'genre'],\n",
    "                        engine='python',\n",
    "                        delimiter=\"::\",\n",
    "                        header=None) \n",
    "\n",
    "print(f\"Original: {ratings_df['movie'].unique().shape} Load: {movies_df.shape}\")\n",
    "movies_df.head(2)"
   ]
  },
  {
   "cell_type": "code",
   "execution_count": 7,
   "metadata": {
    "execution": {
     "iopub.execute_input": "2020-05-21T22:19:28.244804Z",
     "iopub.status.busy": "2020-05-21T22:19:28.244243Z",
     "iopub.status.idle": "2020-05-21T22:19:28.281623Z",
     "shell.execute_reply": "2020-05-21T22:19:28.280729Z",
     "shell.execute_reply.started": "2020-05-21T22:19:28.244725Z"
    }
   },
   "outputs": [],
   "source": [
    "# pd.isnull(movies_df).sum()\n",
    "\n",
    "# movies_df.info()"
   ]
  },
  {
   "cell_type": "code",
   "execution_count": 8,
   "metadata": {
    "execution": {
     "iopub.execute_input": "2020-05-21T22:19:28.282925Z",
     "iopub.status.busy": "2020-05-21T22:19:28.282589Z",
     "iopub.status.idle": "2020-05-21T22:19:28.373695Z",
     "shell.execute_reply": "2020-05-21T22:19:28.372063Z",
     "shell.execute_reply.started": "2020-05-21T22:19:28.282886Z"
    }
   },
   "outputs": [
    {
     "name": "stdout",
     "output_type": "stream",
     "text": [
      "Original: (5399,) Load: (6040, 5)\n"
     ]
    },
    {
     "data": {
      "text/html": [
       "<div>\n",
       "<style scoped>\n",
       "    .dataframe tbody tr th:only-of-type {\n",
       "        vertical-align: middle;\n",
       "    }\n",
       "\n",
       "    .dataframe tbody tr th {\n",
       "        vertical-align: top;\n",
       "    }\n",
       "\n",
       "    .dataframe thead th {\n",
       "        text-align: right;\n",
       "    }\n",
       "</style>\n",
       "<table border=\"1\" class=\"dataframe\">\n",
       "  <thead>\n",
       "    <tr style=\"text-align: right;\">\n",
       "      <th></th>\n",
       "      <th>user_id</th>\n",
       "      <th>gender</th>\n",
       "      <th>age</th>\n",
       "      <th>occ</th>\n",
       "      <th>zipcode</th>\n",
       "    </tr>\n",
       "  </thead>\n",
       "  <tbody>\n",
       "    <tr>\n",
       "      <th>0</th>\n",
       "      <td>1</td>\n",
       "      <td>F</td>\n",
       "      <td>1</td>\n",
       "      <td>10</td>\n",
       "      <td>48067</td>\n",
       "    </tr>\n",
       "    <tr>\n",
       "      <th>1</th>\n",
       "      <td>2</td>\n",
       "      <td>M</td>\n",
       "      <td>56</td>\n",
       "      <td>16</td>\n",
       "      <td>70072</td>\n",
       "    </tr>\n",
       "  </tbody>\n",
       "</table>\n",
       "</div>"
      ],
      "text/plain": [
       "   user_id gender  age  occ zipcode\n",
       "0        1      F    1   10   48067\n",
       "1        2      M   56   16   70072"
      ]
     },
     "execution_count": 8,
     "metadata": {},
     "output_type": "execute_result"
    }
   ],
   "source": [
    "# Load Users DAT\n",
    "users_df = pd.read_csv('data/users.dat',\n",
    "                        names=['user_id', 'gender', 'age', 'occ', 'zipcode'],\n",
    "                        engine='python',\n",
    "                        delimiter=\"::\",\n",
    "                        header=None) \n",
    "\n",
    "print(f\"Original: {ratings_df['user'].unique().shape} Load: {users_df.shape}\")\n",
    "users_df.head(2)"
   ]
  },
  {
   "cell_type": "markdown",
   "metadata": {},
   "source": [
    "## Create Movie Features"
   ]
  },
  {
   "cell_type": "code",
   "execution_count": 9,
   "metadata": {
    "execution": {
     "iopub.execute_input": "2020-05-21T22:19:28.378482Z",
     "iopub.status.busy": "2020-05-21T22:19:28.377969Z",
     "iopub.status.idle": "2020-05-21T22:19:28.439789Z",
     "shell.execute_reply": "2020-05-21T22:19:28.437883Z",
     "shell.execute_reply.started": "2020-05-21T22:19:28.378436Z"
    }
   },
   "outputs": [],
   "source": [
    "# Create Year Feature\n",
    "movies_df['year'] = movies_df['movie_title'].apply(lambda x: int(getReMax(x)))"
   ]
  },
  {
   "cell_type": "code",
   "execution_count": 10,
   "metadata": {
    "execution": {
     "iopub.execute_input": "2020-05-21T22:19:28.442672Z",
     "iopub.status.busy": "2020-05-21T22:19:28.442009Z",
     "iopub.status.idle": "2020-05-21T22:19:28.481269Z",
     "shell.execute_reply": "2020-05-21T22:19:28.478007Z",
     "shell.execute_reply.started": "2020-05-21T22:19:28.442626Z"
    }
   },
   "outputs": [],
   "source": [
    "# Remove Genre Pipe\n",
    "movies_df['genre'] = movies_df['genre'].apply(lambda x: x.replace(\"|\", \" \"))"
   ]
  },
  {
   "cell_type": "markdown",
   "metadata": {
    "execution": {
     "iopub.execute_input": "2020-05-21T21:56:24.570897Z",
     "iopub.status.busy": "2020-05-21T21:56:24.570456Z",
     "iopub.status.idle": "2020-05-21T21:56:24.595062Z",
     "shell.execute_reply": "2020-05-21T21:56:24.593680Z",
     "shell.execute_reply.started": "2020-05-21T21:56:24.570733Z"
    }
   },
   "source": [
    "## Create User Features"
   ]
  },
  {
   "cell_type": "code",
   "execution_count": 11,
   "metadata": {
    "execution": {
     "iopub.execute_input": "2020-05-21T22:19:28.485244Z",
     "iopub.status.busy": "2020-05-21T22:19:28.484761Z",
     "iopub.status.idle": "2020-05-21T22:19:28.529955Z",
     "shell.execute_reply": "2020-05-21T22:19:28.528034Z",
     "shell.execute_reply.started": "2020-05-21T22:19:28.485060Z"
    }
   },
   "outputs": [],
   "source": [
    "# Create Clean Zipcode\n",
    "users_df['zipclean'] = users_df['zipcode'].apply(lambda x: x.partition('-')[0])"
   ]
  },
  {
   "cell_type": "code",
   "execution_count": 12,
   "metadata": {
    "execution": {
     "iopub.execute_input": "2020-05-21T22:19:28.531811Z",
     "iopub.status.busy": "2020-05-21T22:19:28.531526Z",
     "iopub.status.idle": "2020-05-21T22:19:28.573019Z",
     "shell.execute_reply": "2020-05-21T22:19:28.571788Z",
     "shell.execute_reply.started": "2020-05-21T22:19:28.531769Z"
    }
   },
   "outputs": [],
   "source": [
    "# Create Occupation Name Feature\n",
    "occ_map = {\n",
    "0:  \"other\", \n",
    "1:  \"academic/educator\",\n",
    "2:  \"artist\",\n",
    "3:  \"clerical/admin\",\n",
    "4:  \"college/grad student\",\n",
    "5:  \"customer service\",\n",
    "6:  \"doctor/health care\",\n",
    "7:  \"executive/managerial\",\n",
    "8:  \"farmer\",\n",
    "9:  \"homemaker\",\n",
    "10:  \"K-12 student\",\n",
    "11:  \"lawyer\",\n",
    "12:  \"programmer\",\n",
    "13:  \"retired\",\n",
    "14:  \"sales/marketing\",\n",
    "15:  \"scientist\",\n",
    "16:  \"self-employed\",\n",
    "17:  \"technician/engineer\",\n",
    "18:  \"tradesman/craftsman\",\n",
    "19:  \"unemployed\",\n",
    "20:  \"writer\",\n",
    "}\n",
    "\n",
    "users_df['occ_name'] = users_df['occ'].map(occ_map)"
   ]
  },
  {
   "cell_type": "markdown",
   "metadata": {},
   "source": [
    "## Export Data as CSV for Future Use"
   ]
  },
  {
   "cell_type": "code",
   "execution_count": null,
   "metadata": {
    "execution": {
     "iopub.execute_input": "2020-05-21T22:19:28.574918Z",
     "iopub.status.busy": "2020-05-21T22:19:28.574615Z"
    }
   },
   "outputs": [],
   "source": [
    "# Export Ratings DF\n",
    "ratings_df.to_csv('cleaned_data/ratings.csv', index=False)"
   ]
  },
  {
   "cell_type": "code",
   "execution_count": null,
   "metadata": {},
   "outputs": [],
   "source": [
    "# Export Movies DF\n",
    "movies_df.to_csv('cleaned_data/movies.csv', index=False)"
   ]
  },
  {
   "cell_type": "code",
   "execution_count": null,
   "metadata": {},
   "outputs": [],
   "source": [
    "# Export Users DF\n",
    "users_df.to_csv('cleaned_data/users.csv', index=False)"
   ]
  }
 ],
 "metadata": {
  "kernelspec": {
   "display_name": "Python 3",
   "language": "python",
   "name": "python3"
  },
  "language_info": {
   "codemirror_mode": {
    "name": "ipython",
    "version": 3
   },
   "file_extension": ".py",
   "mimetype": "text/x-python",
   "name": "python",
   "nbconvert_exporter": "python",
   "pygments_lexer": "ipython3",
   "version": "3.7.6"
  }
 },
 "nbformat": 4,
 "nbformat_minor": 4
}
