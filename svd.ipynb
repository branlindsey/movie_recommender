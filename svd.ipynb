{
 "cells": [
  {
   "cell_type": "code",
   "execution_count": 6,
   "metadata": {},
   "outputs": [],
   "source": [
    "# !pip install scikit-surprise"
   ]
  },
  {
   "cell_type": "code",
   "execution_count": 77,
   "metadata": {
    "collapsed": false,
    "jupyter": {
     "outputs_hidden": false
    }
   },
   "outputs": [],
   "source": [
    "import pandas as pd\n",
    "\n",
    "import surprise\n",
    "from surprise import SVD\n",
    "from surprise import Reader\n",
    "from surprise import Dataset\n",
    "from surprise import accuracy\n",
    "\n",
    "from surprise.model_selection import train_test_split\n",
    "from surprise.model_selection import LeaveOneOut\n",
    "from surprise.model_selection import cross_validate\n",
    "from surprise import KNNBaseline\n",
    "from surprise import SVD, SVDpp, SlopeOne, NMF, NormalPredictor, KNNBaseline, KNNBasic, KNNWithMeans, KNNWithZScore, BaselineOnly, CoClustering\n",
    "\n",
    "import matplotlib.pyplot as plt\n",
    "%matplotlib inline"
   ]
  },
  {
   "cell_type": "code",
   "execution_count": 5,
   "metadata": {},
   "outputs": [
    {
     "data": {
      "text/html": [
       "<div>\n",
       "<style scoped>\n",
       "    .dataframe tbody tr th:only-of-type {\n",
       "        vertical-align: middle;\n",
       "    }\n",
       "\n",
       "    .dataframe tbody tr th {\n",
       "        vertical-align: top;\n",
       "    }\n",
       "\n",
       "    .dataframe thead th {\n",
       "        text-align: right;\n",
       "    }\n",
       "</style>\n",
       "<table border=\"1\" class=\"dataframe\">\n",
       "  <thead>\n",
       "    <tr style=\"text-align: right;\">\n",
       "      <th></th>\n",
       "      <th>user</th>\n",
       "      <th>movie</th>\n",
       "      <th>rating</th>\n",
       "    </tr>\n",
       "  </thead>\n",
       "  <tbody>\n",
       "    <tr>\n",
       "      <th>0</th>\n",
       "      <td>6040</td>\n",
       "      <td>858</td>\n",
       "      <td>4</td>\n",
       "    </tr>\n",
       "    <tr>\n",
       "      <th>1</th>\n",
       "      <td>6040</td>\n",
       "      <td>593</td>\n",
       "      <td>5</td>\n",
       "    </tr>\n",
       "    <tr>\n",
       "      <th>2</th>\n",
       "      <td>6040</td>\n",
       "      <td>2384</td>\n",
       "      <td>4</td>\n",
       "    </tr>\n",
       "    <tr>\n",
       "      <th>3</th>\n",
       "      <td>6040</td>\n",
       "      <td>1961</td>\n",
       "      <td>4</td>\n",
       "    </tr>\n",
       "    <tr>\n",
       "      <th>4</th>\n",
       "      <td>6040</td>\n",
       "      <td>2019</td>\n",
       "      <td>5</td>\n",
       "    </tr>\n",
       "  </tbody>\n",
       "</table>\n",
       "</div>"
      ],
      "text/plain": [
       "   user  movie  rating\n",
       "0  6040    858       4\n",
       "1  6040    593       5\n",
       "2  6040   2384       4\n",
       "3  6040   1961       4\n",
       "4  6040   2019       5"
      ]
     },
     "execution_count": 5,
     "metadata": {},
     "output_type": "execute_result"
    }
   ],
   "source": [
    "ratings = pd.read_csv('cleaned_data/ratings.csv')\n",
    "ratings.head()"
   ]
  },
  {
   "cell_type": "code",
   "execution_count": 18,
   "metadata": {},
   "outputs": [],
   "source": [
    "reader = Reader(rating_scale=(1, 5))\n",
    "data = Dataset.load_from_df(ratings[['user', 'movie', 'rating']], reader)"
   ]
  },
  {
   "cell_type": "code",
   "execution_count": null,
   "metadata": {},
   "outputs": [],
   "source": [
    "\"\"\"\n",
    "Basic algorithms\n",
    "\n",
    "NormalPredictor\n",
    "NormalPredictor algorithm predicts a random rating based on the distribution of the training set, which is assumed to be normal. This is one of the most basic algorithms that do not do much work.\n",
    "\n",
    "BaselineOnly\n",
    "BaselineOnly algorithm predicts the baseline estimate for given user and item.\n",
    "\n",
    "k-NN algorithms\n",
    "\n",
    "KNNBasic\n",
    "KNNBasic is a basic collaborative filtering algorithm.\n",
    "\n",
    "KNNWithMeans\n",
    "KNNWithMeans is basic collaborative filtering algorithm, taking into account the mean ratings of each user.\n",
    "\n",
    "KNNWithZScore\n",
    "KNNWithZScore is a basic collaborative filtering algorithm, taking into account the z-score normalization of each user.\n",
    "\n",
    "KNNBaseline\n",
    "KNNBaseline is a basic collaborative filtering algorithm taking into account a baseline rating.\n",
    "\n",
    "Matrix Factorization-based algorithms\n",
    "\n",
    "SVD\n",
    "SVD algorithm is equivalent to Probabilistic Matrix Factorization\n",
    "\n",
    "SVDpp\n",
    "The SVDpp algorithm is an extension of SVD that takes into account implicit ratings.\n",
    "\n",
    "NMF\n",
    "NMF is a collaborative filtering algorithm based on Non-negative Matrix Factorization. It is very similar with SVD.\n",
    "\n",
    "Slope One\n",
    "SlopeOne is a straightforward implementation of the SlopeOne algorithm.\n",
    "\n",
    "Co-clustering\n",
    "Coclustering is a collaborative filtering algorithm based on co-clustering.\"\"\""
   ]
  },
  {
   "cell_type": "code",
   "execution_count": null,
   "metadata": {},
   "outputs": [],
   "source": [
    "benchmark = []\n",
    "# Iterate over all algorithms\n",
    "for algorithm in [SVD(), SVDpp(), SlopeOne(), NMF(), NormalPredictor(), KNNBaseline(), KNNBasic(), KNNWithMeans(), KNNWithZScore(), BaselineOnly(), CoClustering()]:\n",
    "    # Perform cross validation\n",
    "    results = cross_validate(algorithm, data, measures=['RMSE'], cv=3, verbose=False)\n",
    "    \n",
    "    # Get results & append algorithm name\n",
    "    tmp = pd.DataFrame.from_dict(results).mean(axis=0)\n",
    "    tmp = tmp.append(pd.Series([str(algorithm).split(' ')[0].split('.')[-1]], index=['Algorithm']))\n",
    "    benchmark.append(tmp)\n",
    "    \n",
    "pd.DataFrame(benchmark).set_index('Algorithm').sort_values('test_rmse') "
   ]
  },
  {
   "cell_type": "code",
   "execution_count": 32,
   "metadata": {},
   "outputs": [
    {
     "name": "stdout",
     "output_type": "stream",
     "text": [
      "Using ALS\n",
      "Estimating biases using als...\n",
      "Estimating biases using als...\n",
      "Estimating biases using als...\n"
     ]
    },
    {
     "data": {
      "text/plain": [
       "{'test_rmse': array([0.91211439, 0.91036326, 0.91327461]),\n",
       " 'fit_time': (1.4382100105285645, 1.6370940208435059, 1.6437299251556396),\n",
       " 'test_time': (2.757873058319092, 2.6020867824554443, 1.963613748550415)}"
      ]
     },
     "execution_count": 32,
     "metadata": {},
     "output_type": "execute_result"
    }
   ],
   "source": [
    "print('Using ALS')\n",
    "bsl_options = {'method': 'als',\n",
    "               'n_epochs': 5,\n",
    "               'reg_u': 12,\n",
    "               'reg_i': 5\n",
    "               }\n",
    "algo = BaselineOnly(bsl_options=bsl_options)\n",
    "cross_validate(algo, data, measures=['RMSE'], cv=3, verbose=False)"
   ]
  },
  {
   "cell_type": "code",
   "execution_count": 35,
   "metadata": {
    "collapsed": false,
    "jupyter": {
     "outputs_hidden": false
    }
   },
   "outputs": [
    {
     "name": "stdout",
     "output_type": "stream",
     "text": [
      "Estimating biases using als...\n",
      "RMSE: 0.9109\n"
     ]
    },
    {
     "data": {
      "text/plain": [
       "0.910871619028571"
      ]
     },
     "execution_count": 35,
     "metadata": {},
     "output_type": "execute_result"
    }
   ],
   "source": [
    "#BaselineOnly algorithm - predicts the baseline estimate for given user and item\n",
    "trainset, testset = train_test_split(data, test_size=0.25)\n",
    "algo = BaselineOnly(bsl_options=bsl_options)\n",
    "predictions = algo.fit(trainset).test(testset)\n",
    "accuracy.rmse(predictions)"
   ]
  },
  {
   "cell_type": "code",
   "execution_count": 55,
   "metadata": {},
   "outputs": [
    {
     "name": "stdout",
     "output_type": "stream",
     "text": [
      "RMSE: 0.8884\n"
     ]
    },
    {
     "data": {
      "text/plain": [
       "0.8884034837151038"
      ]
     },
     "execution_count": 55,
     "metadata": {},
     "output_type": "execute_result"
    }
   ],
   "source": [
    "#SVD algorithm - equivalent to Probabilistic Matrix Factorization\n",
    "trainset, testset = train_test_split(data, test_size=0.25)\n",
    "algo = SVD()\n",
    "predictions = algo.fit(trainset).test(testset)\n",
    "accuracy.rmse(predictions)"
   ]
  },
  {
   "cell_type": "code",
   "execution_count": null,
   "metadata": {},
   "outputs": [],
   "source": [
    "#SVDpp algorithm - extension of SVD that takes into account implicit ratings.\n",
    "#takes too long to run!\n",
    "trainset, testset = train_test_split(data, test_size=0.25)\n",
    "algo = SVDpp()\n",
    "predictions = algo.fit(trainset).test(testset)\n",
    "accuracy.rmse(predictions)"
   ]
  },
  {
   "cell_type": "code",
   "execution_count": 56,
   "metadata": {
    "collapsed": false,
    "jupyter": {
     "outputs_hidden": false
    }
   },
   "outputs": [],
   "source": [
    "def get_Iu(uid):\n",
    "    \"\"\" return the number of items rated by given user\n",
    "    args: \n",
    "      uid: the id of the user\n",
    "    returns: \n",
    "      the number of items rated by the user\n",
    "    \"\"\"\n",
    "    try:\n",
    "        return len(trainset.ur[trainset.to_inner_uid(uid)])\n",
    "    except ValueError: # user was not part of the trainset\n",
    "        return 0\n",
    "    \n",
    "def get_Ui(iid):\n",
    "    \"\"\" return number of users that have rated given item\n",
    "    args:\n",
    "      iid: the raw id of the item\n",
    "    returns:\n",
    "      the number of users that have rated the item.\n",
    "    \"\"\"\n",
    "    try: \n",
    "        return len(trainset.ir[trainset.to_inner_iid(iid)])\n",
    "    except ValueError:\n",
    "        return 0\n",
    "    \n",
    "df = pd.DataFrame(predictions, columns=['user', 'movie', 'actual_rating', 'predicted_rating', 'details'])\n",
    "df['num_of_movies_rated_by_given_user'] = df.user.apply(get_Iu)\n",
    "df['num_users_who_rated_movie'] = df.movie.apply(get_Ui)\n",
    "df['error'] = abs(df.predicted_rating - df.actual_rating)\n",
    "best_predictions = df.sort_values(by='error')[:10]\n",
    "worst_predictions = df.sort_values(by='error')[-10:]"
   ]
  },
  {
   "cell_type": "code",
   "execution_count": 57,
   "metadata": {
    "collapsed": false,
    "jupyter": {
     "outputs_hidden": false
    }
   },
   "outputs": [
    {
     "data": {
      "text/html": [
       "<div>\n",
       "<style scoped>\n",
       "    .dataframe tbody tr th:only-of-type {\n",
       "        vertical-align: middle;\n",
       "    }\n",
       "\n",
       "    .dataframe tbody tr th {\n",
       "        vertical-align: top;\n",
       "    }\n",
       "\n",
       "    .dataframe thead th {\n",
       "        text-align: right;\n",
       "    }\n",
       "</style>\n",
       "<table border=\"1\" class=\"dataframe\">\n",
       "  <thead>\n",
       "    <tr style=\"text-align: right;\">\n",
       "      <th></th>\n",
       "      <th>user</th>\n",
       "      <th>movie</th>\n",
       "      <th>actual_rating</th>\n",
       "      <th>predicted_rating</th>\n",
       "      <th>details</th>\n",
       "      <th>num_of_movies_rated_by_given_user</th>\n",
       "      <th>num_users_who_rated_movie</th>\n",
       "      <th>error</th>\n",
       "    </tr>\n",
       "  </thead>\n",
       "  <tbody>\n",
       "    <tr>\n",
       "      <th>42879</th>\n",
       "      <td>1569</td>\n",
       "      <td>296</td>\n",
       "      <td>5.0</td>\n",
       "      <td>5.0</td>\n",
       "      <td>{'was_impossible': False}</td>\n",
       "      <td>73</td>\n",
       "      <td>1396</td>\n",
       "      <td>0.0</td>\n",
       "    </tr>\n",
       "    <tr>\n",
       "      <th>122540</th>\n",
       "      <td>5851</td>\n",
       "      <td>1269</td>\n",
       "      <td>5.0</td>\n",
       "      <td>5.0</td>\n",
       "      <td>{'was_impossible': False}</td>\n",
       "      <td>120</td>\n",
       "      <td>428</td>\n",
       "      <td>0.0</td>\n",
       "    </tr>\n",
       "    <tr>\n",
       "      <th>122556</th>\n",
       "      <td>5102</td>\n",
       "      <td>2762</td>\n",
       "      <td>5.0</td>\n",
       "      <td>5.0</td>\n",
       "      <td>{'was_impossible': False}</td>\n",
       "      <td>46</td>\n",
       "      <td>1495</td>\n",
       "      <td>0.0</td>\n",
       "    </tr>\n",
       "    <tr>\n",
       "      <th>122577</th>\n",
       "      <td>1180</td>\n",
       "      <td>260</td>\n",
       "      <td>5.0</td>\n",
       "      <td>5.0</td>\n",
       "      <td>{'was_impossible': False}</td>\n",
       "      <td>31</td>\n",
       "      <td>1895</td>\n",
       "      <td>0.0</td>\n",
       "    </tr>\n",
       "    <tr>\n",
       "      <th>122590</th>\n",
       "      <td>5412</td>\n",
       "      <td>858</td>\n",
       "      <td>5.0</td>\n",
       "      <td>5.0</td>\n",
       "      <td>{'was_impossible': False}</td>\n",
       "      <td>163</td>\n",
       "      <td>1423</td>\n",
       "      <td>0.0</td>\n",
       "    </tr>\n",
       "    <tr>\n",
       "      <th>122612</th>\n",
       "      <td>5056</td>\n",
       "      <td>2571</td>\n",
       "      <td>5.0</td>\n",
       "      <td>5.0</td>\n",
       "      <td>{'was_impossible': False}</td>\n",
       "      <td>145</td>\n",
       "      <td>1633</td>\n",
       "      <td>0.0</td>\n",
       "    </tr>\n",
       "    <tr>\n",
       "      <th>93176</th>\n",
       "      <td>5569</td>\n",
       "      <td>1035</td>\n",
       "      <td>5.0</td>\n",
       "      <td>5.0</td>\n",
       "      <td>{'was_impossible': False}</td>\n",
       "      <td>191</td>\n",
       "      <td>540</td>\n",
       "      <td>0.0</td>\n",
       "    </tr>\n",
       "    <tr>\n",
       "      <th>45141</th>\n",
       "      <td>2124</td>\n",
       "      <td>2858</td>\n",
       "      <td>5.0</td>\n",
       "      <td>5.0</td>\n",
       "      <td>{'was_impossible': False}</td>\n",
       "      <td>505</td>\n",
       "      <td>2155</td>\n",
       "      <td>0.0</td>\n",
       "    </tr>\n",
       "    <tr>\n",
       "      <th>16732</th>\n",
       "      <td>2928</td>\n",
       "      <td>923</td>\n",
       "      <td>5.0</td>\n",
       "      <td>5.0</td>\n",
       "      <td>{'was_impossible': False}</td>\n",
       "      <td>317</td>\n",
       "      <td>682</td>\n",
       "      <td>0.0</td>\n",
       "    </tr>\n",
       "    <tr>\n",
       "      <th>122952</th>\n",
       "      <td>3343</td>\n",
       "      <td>1197</td>\n",
       "      <td>5.0</td>\n",
       "      <td>5.0</td>\n",
       "      <td>{'was_impossible': False}</td>\n",
       "      <td>39</td>\n",
       "      <td>1435</td>\n",
       "      <td>0.0</td>\n",
       "    </tr>\n",
       "  </tbody>\n",
       "</table>\n",
       "</div>"
      ],
      "text/plain": [
       "        user  movie  actual_rating  predicted_rating  \\\n",
       "42879   1569    296            5.0               5.0   \n",
       "122540  5851   1269            5.0               5.0   \n",
       "122556  5102   2762            5.0               5.0   \n",
       "122577  1180    260            5.0               5.0   \n",
       "122590  5412    858            5.0               5.0   \n",
       "122612  5056   2571            5.0               5.0   \n",
       "93176   5569   1035            5.0               5.0   \n",
       "45141   2124   2858            5.0               5.0   \n",
       "16732   2928    923            5.0               5.0   \n",
       "122952  3343   1197            5.0               5.0   \n",
       "\n",
       "                          details  num_of_movies_rated_by_given_user  \\\n",
       "42879   {'was_impossible': False}                                 73   \n",
       "122540  {'was_impossible': False}                                120   \n",
       "122556  {'was_impossible': False}                                 46   \n",
       "122577  {'was_impossible': False}                                 31   \n",
       "122590  {'was_impossible': False}                                163   \n",
       "122612  {'was_impossible': False}                                145   \n",
       "93176   {'was_impossible': False}                                191   \n",
       "45141   {'was_impossible': False}                                505   \n",
       "16732   {'was_impossible': False}                                317   \n",
       "122952  {'was_impossible': False}                                 39   \n",
       "\n",
       "        num_users_who_rated_movie  error  \n",
       "42879                        1396    0.0  \n",
       "122540                        428    0.0  \n",
       "122556                       1495    0.0  \n",
       "122577                       1895    0.0  \n",
       "122590                       1423    0.0  \n",
       "122612                       1633    0.0  \n",
       "93176                         540    0.0  \n",
       "45141                        2155    0.0  \n",
       "16732                         682    0.0  \n",
       "122952                       1435    0.0  "
      ]
     },
     "execution_count": 57,
     "metadata": {},
     "output_type": "execute_result"
    }
   ],
   "source": [
    "best_predictions"
   ]
  },
  {
   "cell_type": "code",
   "execution_count": 58,
   "metadata": {},
   "outputs": [
    {
     "data": {
      "text/html": [
       "<div>\n",
       "<style scoped>\n",
       "    .dataframe tbody tr th:only-of-type {\n",
       "        vertical-align: middle;\n",
       "    }\n",
       "\n",
       "    .dataframe tbody tr th {\n",
       "        vertical-align: top;\n",
       "    }\n",
       "\n",
       "    .dataframe thead th {\n",
       "        text-align: right;\n",
       "    }\n",
       "</style>\n",
       "<table border=\"1\" class=\"dataframe\">\n",
       "  <thead>\n",
       "    <tr style=\"text-align: right;\">\n",
       "      <th></th>\n",
       "      <th>user</th>\n",
       "      <th>movie</th>\n",
       "      <th>actual_rating</th>\n",
       "      <th>predicted_rating</th>\n",
       "      <th>details</th>\n",
       "      <th>num_of_movies_rated_by_given_user</th>\n",
       "      <th>num_users_who_rated_movie</th>\n",
       "      <th>error</th>\n",
       "    </tr>\n",
       "  </thead>\n",
       "  <tbody>\n",
       "    <tr>\n",
       "      <th>154137</th>\n",
       "      <td>5878</td>\n",
       "      <td>1945</td>\n",
       "      <td>1.0</td>\n",
       "      <td>4.879777</td>\n",
       "      <td>{'was_impossible': False}</td>\n",
       "      <td>247</td>\n",
       "      <td>316</td>\n",
       "      <td>3.879777</td>\n",
       "    </tr>\n",
       "    <tr>\n",
       "      <th>135120</th>\n",
       "      <td>3415</td>\n",
       "      <td>1200</td>\n",
       "      <td>1.0</td>\n",
       "      <td>4.901366</td>\n",
       "      <td>{'was_impossible': False}</td>\n",
       "      <td>116</td>\n",
       "      <td>1116</td>\n",
       "      <td>3.901366</td>\n",
       "    </tr>\n",
       "    <tr>\n",
       "      <th>82277</th>\n",
       "      <td>1437</td>\n",
       "      <td>3307</td>\n",
       "      <td>1.0</td>\n",
       "      <td>4.921199</td>\n",
       "      <td>{'was_impossible': False}</td>\n",
       "      <td>113</td>\n",
       "      <td>155</td>\n",
       "      <td>3.921199</td>\n",
       "    </tr>\n",
       "    <tr>\n",
       "      <th>45281</th>\n",
       "      <td>1680</td>\n",
       "      <td>175</td>\n",
       "      <td>1.0</td>\n",
       "      <td>4.999310</td>\n",
       "      <td>{'was_impossible': False}</td>\n",
       "      <td>1394</td>\n",
       "      <td>125</td>\n",
       "      <td>3.999310</td>\n",
       "    </tr>\n",
       "    <tr>\n",
       "      <th>118396</th>\n",
       "      <td>4801</td>\n",
       "      <td>1374</td>\n",
       "      <td>1.0</td>\n",
       "      <td>5.000000</td>\n",
       "      <td>{'was_impossible': False}</td>\n",
       "      <td>144</td>\n",
       "      <td>911</td>\n",
       "      <td>4.000000</td>\n",
       "    </tr>\n",
       "    <tr>\n",
       "      <th>107426</th>\n",
       "      <td>805</td>\n",
       "      <td>356</td>\n",
       "      <td>1.0</td>\n",
       "      <td>5.000000</td>\n",
       "      <td>{'was_impossible': False}</td>\n",
       "      <td>58</td>\n",
       "      <td>1372</td>\n",
       "      <td>4.000000</td>\n",
       "    </tr>\n",
       "    <tr>\n",
       "      <th>111311</th>\n",
       "      <td>1069</td>\n",
       "      <td>2858</td>\n",
       "      <td>1.0</td>\n",
       "      <td>5.000000</td>\n",
       "      <td>{'was_impossible': False}</td>\n",
       "      <td>472</td>\n",
       "      <td>2155</td>\n",
       "      <td>4.000000</td>\n",
       "    </tr>\n",
       "    <tr>\n",
       "      <th>21647</th>\n",
       "      <td>3590</td>\n",
       "      <td>2571</td>\n",
       "      <td>1.0</td>\n",
       "      <td>5.000000</td>\n",
       "      <td>{'was_impossible': False}</td>\n",
       "      <td>315</td>\n",
       "      <td>1633</td>\n",
       "      <td>4.000000</td>\n",
       "    </tr>\n",
       "    <tr>\n",
       "      <th>35631</th>\n",
       "      <td>3844</td>\n",
       "      <td>1566</td>\n",
       "      <td>1.0</td>\n",
       "      <td>5.000000</td>\n",
       "      <td>{'was_impossible': False}</td>\n",
       "      <td>100</td>\n",
       "      <td>280</td>\n",
       "      <td>4.000000</td>\n",
       "    </tr>\n",
       "    <tr>\n",
       "      <th>161772</th>\n",
       "      <td>3358</td>\n",
       "      <td>1947</td>\n",
       "      <td>1.0</td>\n",
       "      <td>5.000000</td>\n",
       "      <td>{'was_impossible': False}</td>\n",
       "      <td>170</td>\n",
       "      <td>429</td>\n",
       "      <td>4.000000</td>\n",
       "    </tr>\n",
       "  </tbody>\n",
       "</table>\n",
       "</div>"
      ],
      "text/plain": [
       "        user  movie  actual_rating  predicted_rating  \\\n",
       "154137  5878   1945            1.0          4.879777   \n",
       "135120  3415   1200            1.0          4.901366   \n",
       "82277   1437   3307            1.0          4.921199   \n",
       "45281   1680    175            1.0          4.999310   \n",
       "118396  4801   1374            1.0          5.000000   \n",
       "107426   805    356            1.0          5.000000   \n",
       "111311  1069   2858            1.0          5.000000   \n",
       "21647   3590   2571            1.0          5.000000   \n",
       "35631   3844   1566            1.0          5.000000   \n",
       "161772  3358   1947            1.0          5.000000   \n",
       "\n",
       "                          details  num_of_movies_rated_by_given_user  \\\n",
       "154137  {'was_impossible': False}                                247   \n",
       "135120  {'was_impossible': False}                                116   \n",
       "82277   {'was_impossible': False}                                113   \n",
       "45281   {'was_impossible': False}                               1394   \n",
       "118396  {'was_impossible': False}                                144   \n",
       "107426  {'was_impossible': False}                                 58   \n",
       "111311  {'was_impossible': False}                                472   \n",
       "21647   {'was_impossible': False}                                315   \n",
       "35631   {'was_impossible': False}                                100   \n",
       "161772  {'was_impossible': False}                                170   \n",
       "\n",
       "        num_users_who_rated_movie     error  \n",
       "154137                        316  3.879777  \n",
       "135120                       1116  3.901366  \n",
       "82277                         155  3.921199  \n",
       "45281                         125  3.999310  \n",
       "118396                        911  4.000000  \n",
       "107426                       1372  4.000000  \n",
       "111311                       2155  4.000000  \n",
       "21647                        1633  4.000000  \n",
       "35631                         280  4.000000  \n",
       "161772                        429  4.000000  "
      ]
     },
     "execution_count": 58,
     "metadata": {},
     "output_type": "execute_result"
    }
   ],
   "source": [
    "worst_predictions"
   ]
  },
  {
   "cell_type": "code",
   "execution_count": 85,
   "metadata": {},
   "outputs": [
    {
     "data": {
      "image/png": "[encoded data removed]",
      "text/plain": [
       "<Figure size 432x288 with 1 Axes>"
      ]
     },
     "metadata": {
      "needs_background": "light"
     },
     "output_type": "display_data"
    }
   ],
   "source": [
    "ratings.loc[ratings['movie'] == 296]['rating'].hist()\n",
    "plt.xlabel('rating')\n",
    "plt.ylabel('Number of ratings')\n",
    "plt.title('Number of ratings movie 1196 (top choice) received')\n",
    "plt.show();"
   ]
  },
  {
   "cell_type": "code",
   "execution_count": 86,
   "metadata": {},
   "outputs": [
    {
     "data": {
      "image/png": "[encoded data removed]",
      "text/plain": [
       "<Figure size 432x288 with 1 Axes>"
      ]
     },
     "metadata": {
      "needs_background": "light"
     },
     "output_type": "display_data"
    }
   ],
   "source": [
    "ratings.loc[ratings['movie'] == 1945]['rating'].hist()\n",
    "plt.xlabel('rating')\n",
    "plt.ylabel('Number of ratings')\n",
    "plt.title('Number of ratings movie 858 (worst choice) received')\n",
    "plt.show();"
   ]
  },
  {
   "cell_type": "code",
   "execution_count": null,
   "metadata": {},
   "outputs": [],
   "source": []
  }
 ],
 "metadata": {
  "kernelspec": {
   "display_name": "Python 3",
   "language": "python",
   "name": "python3"
  },
  "language_info": {
   "codemirror_mode": {
    "name": "ipython",
    "version": 3
   },
   "file_extension": ".py",
   "mimetype": "text/x-python",
   "name": "python",
   "nbconvert_exporter": "python",
   "pygments_lexer": "ipython3",
   "version": "3.7.4"
  }
 },
 "nbformat": 4,
 "nbformat_minor": 4
}
